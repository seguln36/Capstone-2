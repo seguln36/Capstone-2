{
 "cells": [
  {
   "cell_type": "raw",
   "metadata": {},
   "source": [
    "In this section I will look at the predictive power of certain models and try tounderstand which features are most important for the given models.\n",
    "\n",
    "The questions of interest:\n",
    "\n",
    "Can popularity of a song be predicted by the features provided by the Spotify API(acousticness, danceability, durationm energy, etc.) and the few features engineered in the previous notebook(time buckets, popular/unpopular, artist song count, etc.)?\n",
    "\n",
    "Which model will best predict the populairty score?\n",
    "\n",
    "If none of the models are up to standard, could other models be developed to classify a song as popular or unpopular as defined by the criteria from other notebooks?\n",
    "\n",
    "What features matter most to the best model?\n",
    "\n",
    "After understanding what models and features are best at predicting, what future work can be done to better predict song popularity?\n"
   ]
  },
  {
   "cell_type": "code",
   "execution_count": 1,
   "metadata": {},
   "outputs": [],
   "source": [
    "from sklearn.preprocessing import StandardScaler\n",
    "import pandas as pd\n",
    "import numpy as np\n",
    "import matplotlib.pyplot as plt\n",
    "import seaborn as sns\n",
    "%matplotlib inline\n"
   ]
  },
  {
   "cell_type": "raw",
   "metadata": {},
   "source": [
    "Let's look to see how imbalanced the data is before we begin."
   ]
  },
  {
   "cell_type": "code",
   "execution_count": 2,
   "metadata": {},
   "outputs": [
    {
     "data": {
      "text/plain": [
       "popular        123677\n",
       "not-popular     41538\n",
       "Name: popular, dtype: int64"
      ]
     },
     "execution_count": 2,
     "metadata": {},
     "output_type": "execute_result"
    }
   ],
   "source": [
    "df = pd.read_csv('Data.csv')\n",
    "df['popular'].value_counts()\n"
   ]
  },
  {
   "cell_type": "raw",
   "metadata": {},
   "source": [
    "It's about a 3:1 ratio which is not perfect but not too imbalanced."
   ]
  },
  {
   "cell_type": "code",
   "execution_count": 3,
   "metadata": {},
   "outputs": [
    {
     "data": {
      "text/html": [
       "<div>\n",
       "<style scoped>\n",
       "    .dataframe tbody tr th:only-of-type {\n",
       "        vertical-align: middle;\n",
       "    }\n",
       "\n",
       "    .dataframe tbody tr th {\n",
       "        vertical-align: top;\n",
       "    }\n",
       "\n",
       "    .dataframe thead th {\n",
       "        text-align: right;\n",
       "    }\n",
       "</style>\n",
       "<table border=\"1\" class=\"dataframe\">\n",
       "  <thead>\n",
       "    <tr style=\"text-align: right;\">\n",
       "      <th></th>\n",
       "      <th>Unnamed: 0</th>\n",
       "      <th>popularity</th>\n",
       "      <th>acousticness</th>\n",
       "      <th>danceability</th>\n",
       "      <th>duration_ms</th>\n",
       "      <th>energy</th>\n",
       "      <th>instrumentalness</th>\n",
       "      <th>liveness</th>\n",
       "      <th>loudness</th>\n",
       "      <th>speechiness</th>\n",
       "      <th>...</th>\n",
       "      <th>time_signature_3/4</th>\n",
       "      <th>time_signature_4/4</th>\n",
       "      <th>time_signature_5/4</th>\n",
       "      <th>bucket_(100000.0, 300000.0]</th>\n",
       "      <th>bucket_(300000.0, 500000.0]</th>\n",
       "      <th>bucket_(500000.0, 700000.0]</th>\n",
       "      <th>bucket_(700000.0, 900000.0]</th>\n",
       "      <th>bucket_(900000.0, 1000000.0]</th>\n",
       "      <th>popular_not-popular</th>\n",
       "      <th>popular_popular</th>\n",
       "    </tr>\n",
       "  </thead>\n",
       "  <tbody>\n",
       "    <tr>\n",
       "      <th>0</th>\n",
       "      <td>242</td>\n",
       "      <td>84</td>\n",
       "      <td>0.5440</td>\n",
       "      <td>0.515</td>\n",
       "      <td>209274</td>\n",
       "      <td>0.479</td>\n",
       "      <td>0.005980</td>\n",
       "      <td>0.1910</td>\n",
       "      <td>-7.458</td>\n",
       "      <td>0.0261</td>\n",
       "      <td>...</td>\n",
       "      <td>0</td>\n",
       "      <td>1</td>\n",
       "      <td>0</td>\n",
       "      <td>1</td>\n",
       "      <td>0</td>\n",
       "      <td>0</td>\n",
       "      <td>0</td>\n",
       "      <td>0</td>\n",
       "      <td>0</td>\n",
       "      <td>1</td>\n",
       "    </tr>\n",
       "    <tr>\n",
       "      <th>1</th>\n",
       "      <td>243</td>\n",
       "      <td>86</td>\n",
       "      <td>0.0116</td>\n",
       "      <td>0.464</td>\n",
       "      <td>239507</td>\n",
       "      <td>0.852</td>\n",
       "      <td>0.000000</td>\n",
       "      <td>0.1080</td>\n",
       "      <td>-3.804</td>\n",
       "      <td>0.0670</td>\n",
       "      <td>...</td>\n",
       "      <td>0</td>\n",
       "      <td>1</td>\n",
       "      <td>0</td>\n",
       "      <td>1</td>\n",
       "      <td>0</td>\n",
       "      <td>0</td>\n",
       "      <td>0</td>\n",
       "      <td>0</td>\n",
       "      <td>0</td>\n",
       "      <td>1</td>\n",
       "    </tr>\n",
       "    <tr>\n",
       "      <th>2</th>\n",
       "      <td>244</td>\n",
       "      <td>84</td>\n",
       "      <td>0.7950</td>\n",
       "      <td>0.473</td>\n",
       "      <td>209400</td>\n",
       "      <td>0.371</td>\n",
       "      <td>0.000000</td>\n",
       "      <td>0.1090</td>\n",
       "      <td>-10.219</td>\n",
       "      <td>0.0405</td>\n",
       "      <td>...</td>\n",
       "      <td>0</td>\n",
       "      <td>1</td>\n",
       "      <td>0</td>\n",
       "      <td>1</td>\n",
       "      <td>0</td>\n",
       "      <td>0</td>\n",
       "      <td>0</td>\n",
       "      <td>0</td>\n",
       "      <td>0</td>\n",
       "      <td>1</td>\n",
       "    </tr>\n",
       "    <tr>\n",
       "      <th>3</th>\n",
       "      <td>245</td>\n",
       "      <td>81</td>\n",
       "      <td>0.6190</td>\n",
       "      <td>0.672</td>\n",
       "      <td>174358</td>\n",
       "      <td>0.588</td>\n",
       "      <td>0.241000</td>\n",
       "      <td>0.0992</td>\n",
       "      <td>-9.573</td>\n",
       "      <td>0.1330</td>\n",
       "      <td>...</td>\n",
       "      <td>0</td>\n",
       "      <td>1</td>\n",
       "      <td>0</td>\n",
       "      <td>1</td>\n",
       "      <td>0</td>\n",
       "      <td>0</td>\n",
       "      <td>0</td>\n",
       "      <td>0</td>\n",
       "      <td>0</td>\n",
       "      <td>1</td>\n",
       "    </tr>\n",
       "    <tr>\n",
       "      <th>4</th>\n",
       "      <td>246</td>\n",
       "      <td>79</td>\n",
       "      <td>0.6400</td>\n",
       "      <td>0.545</td>\n",
       "      <td>248467</td>\n",
       "      <td>0.330</td>\n",
       "      <td>0.000007</td>\n",
       "      <td>0.2200</td>\n",
       "      <td>-11.719</td>\n",
       "      <td>0.1640</td>\n",
       "      <td>...</td>\n",
       "      <td>0</td>\n",
       "      <td>1</td>\n",
       "      <td>0</td>\n",
       "      <td>1</td>\n",
       "      <td>0</td>\n",
       "      <td>0</td>\n",
       "      <td>0</td>\n",
       "      <td>0</td>\n",
       "      <td>0</td>\n",
       "      <td>1</td>\n",
       "    </tr>\n",
       "  </tbody>\n",
       "</table>\n",
       "<p>5 rows × 48 columns</p>\n",
       "</div>"
      ],
      "text/plain": [
       "   Unnamed: 0  popularity  acousticness  danceability  duration_ms  energy  \\\n",
       "0         242          84        0.5440         0.515       209274   0.479   \n",
       "1         243          86        0.0116         0.464       239507   0.852   \n",
       "2         244          84        0.7950         0.473       209400   0.371   \n",
       "3         245          81        0.6190         0.672       174358   0.588   \n",
       "4         246          79        0.6400         0.545       248467   0.330   \n",
       "\n",
       "   instrumentalness  liveness  loudness  speechiness  ...  time_signature_3/4  \\\n",
       "0          0.005980    0.1910    -7.458       0.0261  ...                   0   \n",
       "1          0.000000    0.1080    -3.804       0.0670  ...                   0   \n",
       "2          0.000000    0.1090   -10.219       0.0405  ...                   0   \n",
       "3          0.241000    0.0992    -9.573       0.1330  ...                   0   \n",
       "4          0.000007    0.2200   -11.719       0.1640  ...                   0   \n",
       "\n",
       "   time_signature_4/4  time_signature_5/4  bucket_(100000.0, 300000.0]  \\\n",
       "0                   1                   0                            1   \n",
       "1                   1                   0                            1   \n",
       "2                   1                   0                            1   \n",
       "3                   1                   0                            1   \n",
       "4                   1                   0                            1   \n",
       "\n",
       "   bucket_(300000.0, 500000.0]  bucket_(500000.0, 700000.0]  \\\n",
       "0                            0                            0   \n",
       "1                            0                            0   \n",
       "2                            0                            0   \n",
       "3                            0                            0   \n",
       "4                            0                            0   \n",
       "\n",
       "   bucket_(700000.0, 900000.0]  bucket_(900000.0, 1000000.0]  \\\n",
       "0                            0                             0   \n",
       "1                            0                             0   \n",
       "2                            0                             0   \n",
       "3                            0                             0   \n",
       "4                            0                             0   \n",
       "\n",
       "   popular_not-popular  popular_popular  \n",
       "0                    0                1  \n",
       "1                    0                1  \n",
       "2                    0                1  \n",
       "3                    0                1  \n",
       "4                    0                1  \n",
       "\n",
       "[5 rows x 48 columns]"
      ]
     },
     "execution_count": 3,
     "metadata": {},
     "output_type": "execute_result"
    }
   ],
   "source": [
    "df = pd.read_csv('Data.csv')\n",
    "array = ['Rap', 'Pop','Country','Alternative','Indie','Jazz','Dance','Blues']\n",
    "df = df.loc[df['genre'].isin(array)]\n",
    "df = df.drop(['artist_name','track_name','track_id'],axis=1)\n",
    "df = pd.get_dummies(df)\n",
    "df.head()"
   ]
  },
  {
   "cell_type": "raw",
   "metadata": {},
   "source": [
    "Feature Selection"
   ]
  },
  {
   "cell_type": "code",
   "execution_count": 4,
   "metadata": {},
   "outputs": [
    {
     "data": {
      "text/plain": [
       "Index(['Unnamed: 0', 'acousticness', 'danceability', 'duration_ms', 'energy',\n",
       "       'instrumentalness', 'liveness', 'loudness', 'speechiness', 'tempo',\n",
       "       'valence', 'lognorm_duration', 'Count', 'genre_Alternative',\n",
       "       'genre_Blues', 'genre_Country', 'genre_Dance', 'genre_Indie',\n",
       "       'genre_Jazz', 'genre_Pop', 'genre_Rap', 'key_A', 'key_A#', 'key_B',\n",
       "       'key_C', 'key_C#', 'key_D', 'key_D#', 'key_E', 'key_F', 'key_F#',\n",
       "       'key_G', 'key_G#', 'mode_Major', 'mode_Minor', 'time_signature_0/4',\n",
       "       'time_signature_1/4', 'time_signature_3/4', 'time_signature_4/4',\n",
       "       'time_signature_5/4', 'bucket_(100000.0, 300000.0]',\n",
       "       'bucket_(300000.0, 500000.0]', 'bucket_(500000.0, 700000.0]',\n",
       "       'bucket_(700000.0, 900000.0]', 'bucket_(900000.0, 1000000.0]'],\n",
       "      dtype='object')"
      ]
     },
     "execution_count": 4,
     "metadata": {},
     "output_type": "execute_result"
    }
   ],
   "source": [
    "X = df.drop(['popularity','popular_not-popular',\n",
    "       'popular_popular'],axis=1)\n",
    "y = df['popularity']\n",
    "X.columns"
   ]
  },
  {
   "cell_type": "code",
   "execution_count": 5,
   "metadata": {},
   "outputs": [],
   "source": [
    "from sklearn.model_selection import train_test_split\n",
    "X_train, X_test, y_train, y_test = train_test_split(X, y, test_size=0.20)"
   ]
  },
  {
   "cell_type": "raw",
   "metadata": {},
   "source": [
    "Standardizing Data\n",
    "\n",
    "Data is standardized so all features have the same weight instead of some having more of an influence becauase they range from 0 to 100 as opposed to ranging from 0 to 1."
   ]
  },
  {
   "cell_type": "code",
   "execution_count": 6,
   "metadata": {},
   "outputs": [],
   "source": [
    "scaler = StandardScaler() \n",
    "X_trained = scaler.fit_transform(X_train)\n",
    "X_test = scaler.transform(X_test)\n",
    "\n"
   ]
  },
  {
   "cell_type": "code",
   "execution_count": 131,
   "metadata": {},
   "outputs": [
    {
     "data": {
      "text/plain": [
       "Text(0, 0.5, 'Cumulative Explained Variance Ratio')"
      ]
     },
     "execution_count": 131,
     "metadata": {},
     "output_type": "execute_result"
    },
    {
     "data": {
      "image/png": "[encoded data removed]",
      "text/plain": [
       "<Figure size 432x288 with 1 Axes>"
      ]
     },
     "metadata": {
      "needs_background": "light"
     },
     "output_type": "display_data"
    }
   ],
   "source": [
    "from sklearn.decomposition import PCA\n",
    "pca = PCA()\n",
    "pca.fit(X_train)\n",
    "features = range(pca.n_components_)\n",
    "\n",
    "plt.plot(pca.explained_variance_ratio_.cumsum())\n",
    "plt.xlabel('Number of Components')\n",
    "plt.ylabel('Cumulative Explained Variance Ratio')"
   ]
  },
  {
   "cell_type": "raw",
   "metadata": {},
   "source": [
    "Here is the plot of the number of components versus the cumulative explained variance. I will not be transforming the data with any of this information  because the number of components it wants to reduce to is 1 which is too few for a proper analysis.\n"
   ]
  },
  {
   "cell_type": "raw",
   "metadata": {},
   "source": [
    "Import modules and being machine learning.\n",
    "\n",
    "Models will be:\n",
    "LogisticRegression\n",
    "LinearRegression\n",
    "RandomForestRegressor\n",
    "KNeighborsClassifier\n",
    "DecisionTreeClassifier\n",
    "AdaBoostClassifier\n",
    "\n",
    "\n",
    "Cross vlaidation will be performed in order to overcome the random choice of the pair of (train,validation) set and the model is trained using k-1  folds as training data and the model is validated on the remaining section making it less likely for overfitting to occur."
   ]
  },
  {
   "cell_type": "code",
   "execution_count": 7,
   "metadata": {},
   "outputs": [],
   "source": [
    "from sklearn.linear_model import LogisticRegression\n",
    "from sklearn.linear_model import LinearRegression\n",
    "from sklearn.ensemble import RandomForestRegressor\n",
    "from sklearn.preprocessing import StandardScaler\n",
    "from sklearn.ensemble import RandomForestClassifier\n",
    "from sklearn.neighbors import KNeighborsClassifier\n",
    "from sklearn.tree import DecisionTreeClassifier\n",
    "from sklearn.svm import SVC, LinearSVC\n",
    "from sklearn.ensemble import AdaBoostClassifier\n",
    "from xgboost import XGBClassifier\n",
    "from sklearn.metrics import make_scorer, accuracy_score, roc_auc_score \n",
    "from sklearn.model_selection import GridSearchCV\n",
    "from sklearn.model_selection import cross_val_score"
   ]
  },
  {
   "cell_type": "raw",
   "metadata": {},
   "source": [
    "Linear regression has no accuracy score so I will compare these models by looking at the Mean Absolute Error, Root Mean Square Error, and Mean Squared Arror, accuracy can be printed for all other models, but need to look at these three as a way to compare all the models since linear regression is different."
   ]
  },
  {
   "cell_type": "code",
   "execution_count": 10,
   "metadata": {},
   "outputs": [
    {
     "name": "stdout",
     "output_type": "stream",
     "text": [
      "Mean Absolute Error: 16.245046737450128\n",
      "Mean Squared Error: 423.5995539344226\n",
      "Root Mean Squared Error: 20.581534294955336\n",
      "Mean cross validation test score: -6.64308755143344e+18\n",
      "Mean cross validation train score: 0.44743842522952393\n"
     ]
    }
   ],
   "source": [
    "from sklearn import metrics\n",
    "\n",
    "LR_Model = LinearRegression()\n",
    "LR_Model.fit(X_train, y_train)\n",
    "y_pred = LR_Model.predict(X_test)\n",
    "\n",
    "\n",
    "LR_MAE = metrics.mean_absolute_error(y_test, y_pred)\n",
    "LR_MSE = metrics.mean_squared_error(y_test, y_pred)\n",
    "LR_RMSE = np.sqrt(metrics.mean_squared_error(y_test, y_pred))\n",
    "print('Mean Absolute Error:', LR_MAE)\n",
    "print('Mean Squared Error:', LR_MSE)\n",
    "print('Root Mean Squared Error:', LR_RMSE)\n",
    "\n",
    "cv_scores_test= cross_val_score(LR_Model,X_test,y_test,cv=5)\n",
    "cv_scores_train= cross_val_score(LR_Model,X_train,y_train,cv=5)\n",
    "cv_scores_rf_test= cv_scores_test.mean()\n",
    "cv_scores_rf_train= cv_scores_train.mean()\n",
    "\n",
    "print ('Mean cross validation test score: ' +str(cv_scores_rf_test))\n",
    "print ('Mean cross validation train score: ' +str(cv_scores_rf_train))"
   ]
  },
  {
   "cell_type": "code",
   "execution_count": 9,
   "metadata": {},
   "outputs": [
    {
     "name": "stdout",
     "output_type": "stream",
     "text": [
      "Accuracy: 1.0\n",
      "Precision: 1.0\n",
      "Mean Absolute Error: 0.0\n",
      "Mean Squared Error: 0.0\n",
      "Root Mean Squared Error: 0.0\n"
     ]
    },
    {
     "name": "stderr",
     "output_type": "stream",
     "text": [
      "/Users/nicholasseguljic/opt/anaconda3/lib/python3.7/site-packages/sklearn/metrics/_classification.py:1321: UserWarning: Note that pos_label (set to 'positive') is ignored when average != 'binary' (got 'micro'). You may use labels=[pos_label] to specify a single positive class.\n",
      "  % (pos_label, average), UserWarning)\n",
      "/Users/nicholasseguljic/opt/anaconda3/lib/python3.7/site-packages/sklearn/model_selection/_split.py:667: UserWarning: The least populated class in y has only 1 members, which is less than n_splits=5.\n",
      "  % (min_groups, self.n_splits)), UserWarning)\n",
      "/Users/nicholasseguljic/opt/anaconda3/lib/python3.7/site-packages/sklearn/model_selection/_split.py:667: UserWarning: The least populated class in y has only 1 members, which is less than n_splits=5.\n",
      "  % (min_groups, self.n_splits)), UserWarning)\n"
     ]
    },
    {
     "name": "stdout",
     "output_type": "stream",
     "text": [
      "Mean cross validation test score: 0.14489311163895485\n",
      "Mean cross validation train score: 0.260613125656572\n"
     ]
    }
   ],
   "source": [
    "RFC_Model = RandomForestClassifier()\n",
    "RFC_Model.fit(X_train, y_train)\n",
    "RFC_Predict = RFC_Model.fit(X_test,y_test)\n",
    "y_pred = RFC_Model.predict(X_test)\n",
    "RFC_Accuracy = metrics.accuracy_score(y_test, y_pred)\n",
    "print(\"Accuracy:\",RFC_Accuracy)\n",
    "print(\"Precision:\",metrics.precision_score(y_test, y_pred,pos_label='positive',\n",
    "                                           average='micro'))\n",
    "\n",
    "RFC_MAE = metrics.mean_absolute_error(y_test, y_pred)\n",
    "RFC_MSE = metrics.mean_squared_error(y_test, y_pred)\n",
    "RFC_RMSE  = np.sqrt(metrics.mean_squared_error(y_test, y_pred))\n",
    "print('Mean Absolute Error:',RFC_MAE )\n",
    "print('Mean Squared Error:', RFC_MSE)\n",
    "print('Root Mean Squared Error:', RFC_RMSE)\n",
    "\n",
    "cv_scores_test= cross_val_score(RFC_Model,X_test,y_test,cv=5)\n",
    "cv_scores_train= cross_val_score(RFC_Model,X_train,y_train,cv=5)\n",
    "cv_scores_rf_test= cv_scores_test.mean()\n",
    "cv_scores_rf_train= cv_scores_train.mean()\n",
    "\n",
    "print ('Mean cross validation test score: ' +str(cv_scores_rf_test))\n",
    "print ('Mean cross validation train score: ' +str(cv_scores_rf_train))"
   ]
  },
  {
   "cell_type": "code",
   "execution_count": 11,
   "metadata": {},
   "outputs": [
    {
     "name": "stdout",
     "output_type": "stream",
     "text": [
      "Accuracy: 0.00027146250424160164\n",
      "Precision: 0.00027146250424160164\n",
      "Mean Absolute Error: 36.67302341364099\n",
      "Mean Squared Error: 1462.2901255514082\n",
      "Root Mean Squared Error: 38.23990226911424\n"
     ]
    },
    {
     "name": "stderr",
     "output_type": "stream",
     "text": [
      "/Users/nicholasseguljic/opt/anaconda3/lib/python3.7/site-packages/sklearn/metrics/_classification.py:1321: UserWarning: Note that pos_label (set to 'positive') is ignored when average != 'binary' (got 'micro'). You may use labels=[pos_label] to specify a single positive class.\n",
      "  % (pos_label, average), UserWarning)\n",
      "/Users/nicholasseguljic/opt/anaconda3/lib/python3.7/site-packages/sklearn/model_selection/_split.py:667: UserWarning: The least populated class in y has only 1 members, which is less than n_splits=5.\n",
      "  % (min_groups, self.n_splits)), UserWarning)\n",
      "/Users/nicholasseguljic/opt/anaconda3/lib/python3.7/site-packages/sklearn/model_selection/_split.py:667: UserWarning: The least populated class in y has only 1 members, which is less than n_splits=5.\n",
      "  % (min_groups, self.n_splits)), UserWarning)\n"
     ]
    },
    {
     "name": "stdout",
     "output_type": "stream",
     "text": [
      "Mean cross validation test score: 0.04275534441805226\n",
      "Mean cross validation train score: 0.08262917636365819\n"
     ]
    }
   ],
   "source": [
    "KNN_Model = KNeighborsClassifier()\n",
    "KNN_Model.fit(X_train, y_train)\n",
    "y_pred = KNN_Model.predict(X_test)\n",
    "KNN_Accuracy = accuracy_score(y_test, y_pred)\n",
    "print(\"Accuracy: \" + str(KNN_Accuracy))\n",
    "print(\"Precision:\",metrics.precision_score(y_test, y_pred,pos_label='positive',\n",
    "                                           average='micro'))\n",
    "KNN_MAE = metrics.mean_absolute_error(y_test, y_pred)\n",
    "KNN_MSE = metrics.mean_squared_error(y_test, y_pred)\n",
    "KNN_RMSE = np.sqrt(metrics.mean_squared_error(y_test, y_pred))\n",
    "print('Mean Absolute Error:', KNN_MAE)\n",
    "print('Mean Squared Error:', KNN_MSE)\n",
    "print('Root Mean Squared Error:', KNN_RMSE)\n",
    "\n",
    "cv_scores_test= cross_val_score(KNN_Model,X_test,y_test,cv=5)\n",
    "cv_scores_train= cross_val_score(KNN_Model,X_train,y_train,cv=5)\n",
    "cv_scores_rf_test= cv_scores_test.mean()\n",
    "cv_scores_rf_train= cv_scores_train.mean()\n",
    "\n",
    "print ('Mean cross validation test score: ' +str(cv_scores_rf_test))\n",
    "print ('Mean cross validation train score: ' +str(cv_scores_rf_train))"
   ]
  },
  {
   "cell_type": "code",
   "execution_count": 12,
   "metadata": {},
   "outputs": [
    {
     "name": "stdout",
     "output_type": "stream",
     "text": [
      "Accuracy: 0.0164913471326773\n",
      "Precision: 0.0164913471326773\n",
      "Mean Absolute Error: 16.87818120122158\n",
      "Mean Squared Error: 409.67329487614523\n",
      "Root Mean Squared Error: 20.240387715558843\n"
     ]
    },
    {
     "name": "stderr",
     "output_type": "stream",
     "text": [
      "/Users/nicholasseguljic/opt/anaconda3/lib/python3.7/site-packages/sklearn/metrics/_classification.py:1321: UserWarning: Note that pos_label (set to 'positive') is ignored when average != 'binary' (got 'micro'). You may use labels=[pos_label] to specify a single positive class.\n",
      "  % (pos_label, average), UserWarning)\n",
      "/Users/nicholasseguljic/opt/anaconda3/lib/python3.7/site-packages/sklearn/model_selection/_split.py:667: UserWarning: The least populated class in y has only 1 members, which is less than n_splits=5.\n",
      "  % (min_groups, self.n_splits)), UserWarning)\n",
      "/Users/nicholasseguljic/opt/anaconda3/lib/python3.7/site-packages/sklearn/model_selection/_split.py:667: UserWarning: The least populated class in y has only 1 members, which is less than n_splits=5.\n",
      "  % (min_groups, self.n_splits)), UserWarning)\n"
     ]
    },
    {
     "name": "stdout",
     "output_type": "stream",
     "text": [
      "Mean cross validation test score: 0.11523583305055989\n",
      "Mean cross validation train score: 0.1812586168890983\n"
     ]
    }
   ],
   "source": [
    "DT_Model = DecisionTreeClassifier()\n",
    "DT_Model.fit(X_train, y_train)\n",
    "y_pred = DT_Model.predict(X_test)\n",
    "DT_Accuracy = accuracy_score(y_test, y_pred)\n",
    "print(\"Accuracy: \" + str(DT_Accuracy))\n",
    "print(\"Precision:\",metrics.precision_score(y_test, y_pred,pos_label='positive',\n",
    "                                           average='micro'))\n",
    "\n",
    "DT_MAE = metrics.mean_absolute_error(y_test, y_pred)\n",
    "DT_MSE = metrics.mean_squared_error(y_test, y_pred)\n",
    "DT_RMSE = np.sqrt(metrics.mean_squared_error(y_test, y_pred))\n",
    "print('Mean Absolute Error:', DT_MAE )\n",
    "print('Mean Squared Error:', DT_MSE)\n",
    "print('Root Mean Squared Error:', DT_RMSE)\n",
    "\n",
    "cv_scores_test= cross_val_score(DT_Model,X_test,y_test,cv=5)\n",
    "cv_scores_train= cross_val_score(DT_Model,X_train,y_train,cv=5)\n",
    "cv_scores_rf_test= cv_scores_test.mean()\n",
    "cv_scores_rf_train= cv_scores_train.mean()\n",
    "\n",
    "print ('Mean cross validation test score: ' +str(cv_scores_rf_test))\n",
    "print ('Mean cross validation train score: ' +str(cv_scores_rf_train))"
   ]
  },
  {
   "cell_type": "code",
   "execution_count": 14,
   "metadata": {},
   "outputs": [
    {
     "name": "stdout",
     "output_type": "stream",
     "text": [
      "Accuracy: 6.786562606040041e-05\n",
      "Precision: 6.786562606040041e-05\n",
      "Mean Absolute Error: 44.764981336952836\n",
      "Mean Squared Error: 2149.4323719036306\n",
      "Root Mean Squared Error: 46.361971182248396\n"
     ]
    },
    {
     "name": "stderr",
     "output_type": "stream",
     "text": [
      "/Users/nicholasseguljic/opt/anaconda3/lib/python3.7/site-packages/sklearn/metrics/_classification.py:1321: UserWarning: Note that pos_label (set to 'positive') is ignored when average != 'binary' (got 'micro'). You may use labels=[pos_label] to specify a single positive class.\n",
      "  % (pos_label, average), UserWarning)\n",
      "/Users/nicholasseguljic/opt/anaconda3/lib/python3.7/site-packages/sklearn/model_selection/_split.py:667: UserWarning: The least populated class in y has only 1 members, which is less than n_splits=5.\n",
      "  % (min_groups, self.n_splits)), UserWarning)\n",
      "/Users/nicholasseguljic/opt/anaconda3/lib/python3.7/site-packages/sklearn/model_selection/_split.py:667: UserWarning: The least populated class in y has only 1 members, which is less than n_splits=5.\n",
      "  % (min_groups, self.n_splits)), UserWarning)\n"
     ]
    },
    {
     "name": "stdout",
     "output_type": "stream",
     "text": [
      "Mean cross validation test score: 0.05239226331862912\n",
      "Mean cross validation train score: 0.049102453057089664\n"
     ]
    }
   ],
   "source": [
    "AB_Model = AdaBoostClassifier()\n",
    "AB_Model.fit(X_train, y_train)\n",
    "y_pred = AB_Model.predict(X_test)\n",
    "AB_Accuracy = accuracy_score(y_test, y_pred)\n",
    "print(\"Accuracy: \" + str(AB_Accuracy))\n",
    "print(\"Precision:\",metrics.precision_score(y_test, y_pred,pos_label='positive',\n",
    "                                           average='micro'))\n",
    "AB_MAE = metrics.mean_absolute_error(y_test, y_pred)\n",
    "AB_MSE = metrics.mean_squared_error(y_test, y_pred)\n",
    "AB_RMSE = np.sqrt(metrics.mean_squared_error(y_test, y_pred))\n",
    "print('Mean Absolute Error:', AB_MAE)\n",
    "print('Mean Squared Error:', AB_MSE)\n",
    "print('Root Mean Squared Error:', AB_RMSE)\n",
    "\n",
    "cv_scores_test= cross_val_score(AB_Model,X_test,y_test,cv=5)\n",
    "cv_scores_train= cross_val_score(AB_Model,X_train,y_train,cv=5)\n",
    "cv_scores_rf_test= cv_scores_test.mean()\n",
    "cv_scores_rf_train= cv_scores_train.mean()\n",
    "\n",
    "print ('Mean cross validation test score: ' +str(cv_scores_rf_test))\n",
    "print ('Mean cross validation train score: ' +str(cv_scores_rf_train))"
   ]
  },
  {
   "cell_type": "code",
   "execution_count": 15,
   "metadata": {},
   "outputs": [],
   "source": [
    "model_performance = pd.DataFrame({'Model': ['LinearRegression', \n",
    "                                                      'RandomForestClassifier', \n",
    "                                                      'KNeighborsClassifier',\n",
    "                                                      'DecisionTreeClassifier','AdaBoostClassifier'\n",
    "                                                      ],\n",
    "                                            'Accuracy': [np.nan,\n",
    "                                                         RFC_Accuracy,\n",
    "                                                         KNN_Accuracy,\n",
    "                                                         DT_Accuracy,AB_Accuracy\n",
    "                                                         ],\n",
    "                                            'MAE': [LR_MAE,\n",
    "                                                         RFC_MAE,\n",
    "                                                         KNN_MAE,\n",
    "                                                         DT_MAE,AB_MAE\n",
    "                                                         ],\n",
    "                                            'MSE': [LR_MSE,\n",
    "                                                         RFC_MSE,\n",
    "                                                         KNN_MSE,\n",
    "                                                         DT_MSE,AB_MSE\n",
    "                                                         ],\n",
    "                                            'RMSE': [LR_RMSE,\n",
    "                                                         RFC_RMSE,\n",
    "                                                         KNN_RMSE,\n",
    "                                                         DT_RMSE,AB_RMSE\n",
    "                                                         ]})\n",
    "\n"
   ]
  },
  {
   "cell_type": "code",
   "execution_count": 16,
   "metadata": {},
   "outputs": [
    {
     "data": {
      "text/html": [
       "<div>\n",
       "<style scoped>\n",
       "    .dataframe tbody tr th:only-of-type {\n",
       "        vertical-align: middle;\n",
       "    }\n",
       "\n",
       "    .dataframe tbody tr th {\n",
       "        vertical-align: top;\n",
       "    }\n",
       "\n",
       "    .dataframe thead th {\n",
       "        text-align: right;\n",
       "    }\n",
       "</style>\n",
       "<table border=\"1\" class=\"dataframe\">\n",
       "  <thead>\n",
       "    <tr style=\"text-align: right;\">\n",
       "      <th></th>\n",
       "      <th>Model</th>\n",
       "      <th>Accuracy</th>\n",
       "      <th>MAE</th>\n",
       "      <th>MSE</th>\n",
       "      <th>RMSE</th>\n",
       "    </tr>\n",
       "  </thead>\n",
       "  <tbody>\n",
       "    <tr>\n",
       "      <th>4</th>\n",
       "      <td>AdaBoostClassifier</td>\n",
       "      <td>0.000068</td>\n",
       "      <td>44.764981</td>\n",
       "      <td>2149.432372</td>\n",
       "      <td>46.361971</td>\n",
       "    </tr>\n",
       "    <tr>\n",
       "      <th>2</th>\n",
       "      <td>KNeighborsClassifier</td>\n",
       "      <td>0.000271</td>\n",
       "      <td>36.673023</td>\n",
       "      <td>1462.290126</td>\n",
       "      <td>38.239902</td>\n",
       "    </tr>\n",
       "    <tr>\n",
       "      <th>3</th>\n",
       "      <td>DecisionTreeClassifier</td>\n",
       "      <td>0.016491</td>\n",
       "      <td>16.878181</td>\n",
       "      <td>409.673295</td>\n",
       "      <td>20.240388</td>\n",
       "    </tr>\n",
       "    <tr>\n",
       "      <th>1</th>\n",
       "      <td>RandomForestClassifier</td>\n",
       "      <td>1.000000</td>\n",
       "      <td>0.000000</td>\n",
       "      <td>0.000000</td>\n",
       "      <td>0.000000</td>\n",
       "    </tr>\n",
       "    <tr>\n",
       "      <th>0</th>\n",
       "      <td>LinearRegression</td>\n",
       "      <td>NaN</td>\n",
       "      <td>16.245047</td>\n",
       "      <td>423.599554</td>\n",
       "      <td>20.581534</td>\n",
       "    </tr>\n",
       "  </tbody>\n",
       "</table>\n",
       "</div>"
      ],
      "text/plain": [
       "                    Model  Accuracy        MAE          MSE       RMSE\n",
       "4      AdaBoostClassifier  0.000068  44.764981  2149.432372  46.361971\n",
       "2    KNeighborsClassifier  0.000271  36.673023  1462.290126  38.239902\n",
       "3  DecisionTreeClassifier  0.016491  16.878181   409.673295  20.240388\n",
       "1  RandomForestClassifier  1.000000   0.000000     0.000000   0.000000\n",
       "0        LinearRegression       NaN  16.245047   423.599554  20.581534"
      ]
     },
     "execution_count": 16,
     "metadata": {},
     "output_type": "execute_result"
    }
   ],
   "source": [
    "model_performance.sort_values(by = \"Accuracy\", ascending = True)"
   ]
  },
  {
   "cell_type": "raw",
   "metadata": {},
   "source": [
    "The Linear Regression model looks good  even since it has the lowest amount of error for all metrics, even though it has no accuracy score lets tune the parameters.\n",
    "\n",
    "Now hyperparamter tuning will be done to find the optimal parameters for running the Linear Regression model and the error will be compared to the model without tuned hyperparameters."
   ]
  },
  {
   "cell_type": "code",
   "execution_count": 25,
   "metadata": {},
   "outputs": [
    {
     "data": {
      "text/plain": [
       "GridSearchCV(cv=KFold(n_splits=3, random_state=1, shuffle=True),\n",
       "             error_score=nan,\n",
       "             estimator=AdaBoostClassifier(algorithm='SAMME.R',\n",
       "                                          base_estimator=None,\n",
       "                                          learning_rate=1.0, n_estimators=50,\n",
       "                                          random_state=None),\n",
       "             iid='deprecated', n_jobs=1,\n",
       "             param_grid={'learning_rate': [0.7, 0.01],\n",
       "                         'n_estimators': [500, 800]},\n",
       "             pre_dispatch='2*n_jobs', refit=True, return_train_score=False,\n",
       "             scoring='accuracy', verbose=0)"
      ]
     },
     "execution_count": 25,
     "metadata": {},
     "output_type": "execute_result"
    }
   ],
   "source": [
    "from sklearn.model_selection import KFold\n",
    "ada=AdaBoostClassifier()\n",
    "crossvalidation=KFold(n_splits=3,shuffle=True,random_state=1)\n",
    "search_grid={'n_estimators':[500,800],'learning_rate':[.7,0.01]}\n",
    "search=GridSearchCV(estimator=ada,param_grid=search_grid,scoring='accuracy',n_jobs=1,cv=crossvalidation)\n",
    "\n",
    "search.fit(X,y)"
   ]
  },
  {
   "cell_type": "code",
   "execution_count": 26,
   "metadata": {},
   "outputs": [
    {
     "data": {
      "text/plain": [
       "{'learning_rate': 0.01, 'n_estimators': 800}"
      ]
     },
     "execution_count": 26,
     "metadata": {},
     "output_type": "execute_result"
    }
   ],
   "source": [
    "search.best_params_"
   ]
  },
  {
   "cell_type": "code",
   "execution_count": 127,
   "metadata": {},
   "outputs": [
    {
     "name": "stdout",
     "output_type": "stream",
     "text": [
      "Mean Absolute Error: 7.457482185273159\n",
      "Mean Squared Error: 107.9223617237869\n",
      "Root Mean Squared Error: 10.388568800551253\n",
      "Accuracy: 0.052731591448931116\n"
     ]
    },
    {
     "name": "stderr",
     "output_type": "stream",
     "text": [
      "/Users/nicholasseguljic/opt/anaconda3/lib/python3.7/site-packages/sklearn/model_selection/_split.py:667: UserWarning: The least populated class in y has only 1 members, which is less than n_splits=5.\n",
      "  % (min_groups, self.n_splits)), UserWarning)\n",
      "/Users/nicholasseguljic/opt/anaconda3/lib/python3.7/site-packages/sklearn/model_selection/_split.py:667: UserWarning: The least populated class in y has only 1 members, which is less than n_splits=5.\n",
      "  % (min_groups, self.n_splits)), UserWarning)\n"
     ]
    },
    {
     "name": "stdout",
     "output_type": "stream",
     "text": [
      "Mean cross validation test score: 0.05503902273498473\n",
      "Mean cross validation train score: 0.05308968525682176\n",
      "Standard deviation cross validation scores: 0.0030531990170891065\n"
     ]
    }
   ],
   "source": [
    "ada_Model=AdaBoostClassifier(learning_rate= .001, n_estimators= 800)\n",
    "ada_Model.fit(X_train, y_train)\n",
    "y_pred = ada_Model.predict(X_test)\n",
    "\n",
    "print('Mean Absolute Error:', metrics.mean_absolute_error(y_test, y_pred))\n",
    "print('Mean Squared Error:', metrics.mean_squared_error(y_test, y_pred))\n",
    "print('Root Mean Squared Error:', np.sqrt(metrics.mean_squared_error(y_test, y_pred)))\n",
    "\n",
    "print(\"Accuracy:\",metrics.accuracy_score(y_test, y_pred))\n",
    "\n",
    "cv_scores_test= cross_val_score(ada_Model,X_test,y_test,cv=5)\n",
    "cv_scores_train= cross_val_score(ada_Model,X_train,y_train,cv=5)\n",
    "cv_scores_rf_test= cv_scores_test.mean()\n",
    "cv_scores_rf_train= cv_scores_train.mean()\n",
    "cv_scores_std_rf= cv_scores_test.std()\n",
    "print ('Mean cross validation test score: ' +str(cv_scores_rf_test))\n",
    "print ('Mean cross validation train score: ' +str(cv_scores_rf_train))\n",
    "print ('Standard deviation cross validation scores: ' +str(cv_scores_std_rf))"
   ]
  },
  {
   "cell_type": "code",
   "execution_count": 190,
   "metadata": {},
   "outputs": [
    {
     "name": "stdout",
     "output_type": "stream",
     "text": [
      "Mean Absolute Error: 6.237420071514329\n",
      "Mean Squared Error: 71.77087073161633\n",
      "Root Mean Squared Error: 8.471769043807576\n",
      "Mean cross validation test score: 0.955077746550893\n",
      "Mean cross validation train score: 0.9644744855320806\n"
     ]
    }
   ],
   "source": [
    "LR_Model = LinearRegression(copy_X=True, fit_intercept=True, n_jobs=1,normalize=False)\n",
    "LR_Model.fit(X_train, y_train)\n",
    "y_pred = LR_Model.predict(X_test)\n",
    "\n",
    "\n",
    "LR_MAE = metrics.mean_absolute_error(y_test, y_pred)\n",
    "LR_MSE = metrics.mean_squared_error(y_test, y_pred)\n",
    "LR_RMSE = np.sqrt(metrics.mean_squared_error(y_test, y_pred))\n",
    "print('Mean Absolute Error:', LR_MAE)\n",
    "print('Mean Squared Error:', LR_MSE)\n",
    "print('Root Mean Squared Error:', LR_RMSE)\n",
    "\n",
    "cv_scores_rf_test= cv_scores_test.mean()\n",
    "cv_scores_rf_train= cv_scores_train.mean()\n",
    "\n",
    "print ('Mean cross validation test score: ' +str(cv_scores_rf_test))\n",
    "print ('Mean cross validation train score: ' +str(cv_scores_rf_train))"
   ]
  },
  {
   "cell_type": "raw",
   "metadata": {},
   "source": [
    "The error for all categories has gone down slighlty compared to the vanilla LinearRegression.\n",
    "\n",
    "However, these numbers are not great, lets see how accurate we can be with just a hit predictor. \n",
    "For this I will drop out the populairty score and just use the 'popular' feature(meaning popularity>80) as the response varibale to see how well models can predict if a song will just be popular or not. \n",
    "\n"
   ]
  },
  {
   "cell_type": "code",
   "execution_count": 191,
   "metadata": {},
   "outputs": [
    {
     "name": "stdout",
     "output_type": "stream",
     "text": [
      "Index(['Unnamed: 0', 'acousticness', 'danceability', 'duration_ms', 'energy',\n",
      "       'instrumentalness', 'liveness', 'loudness', 'speechiness', 'tempo',\n",
      "       'valence', 'lognorm_duration', 'Count', 'genre_Alternative',\n",
      "       'genre_Blues', 'genre_Country', 'genre_Dance', 'genre_Indie',\n",
      "       'genre_Jazz', 'genre_Pop', 'genre_Rap', 'key_A', 'key_A#', 'key_B',\n",
      "       'key_C', 'key_C#', 'key_D', 'key_D#', 'key_E', 'key_F', 'key_F#',\n",
      "       'key_G', 'key_G#', 'mode_Major', 'mode_Minor', 'time_signature_0/4',\n",
      "       'time_signature_1/4', 'time_signature_3/4', 'time_signature_4/4',\n",
      "       'time_signature_5/4', 'bucket_(100000.0, 300000.0]',\n",
      "       'bucket_(300000.0, 500000.0]', 'bucket_(500000.0, 700000.0]',\n",
      "       'bucket_(700000.0, 900000.0]', 'bucket_(900000.0, 1000000.0]'],\n",
      "      dtype='object')\n"
     ]
    }
   ],
   "source": [
    "df = pd.read_csv('Data.csv')\n",
    "array = ['Rap', 'Pop','Country','Alternative','Indie','Jazz','Dance','Blues']\n",
    "df = df.loc[df['genre'].isin(array)]\n",
    "df = df.drop(['popularity','artist_name','track_name','track_id'],axis=1)\n",
    "df = pd.get_dummies(df)\n",
    "df.head()\n",
    "\n",
    "X = df.drop(['popular_not-popular','popular_popular'],axis=1)\n",
    "y = df['popular_popular']\n",
    "print(X.columns)"
   ]
  },
  {
   "cell_type": "code",
   "execution_count": 192,
   "metadata": {},
   "outputs": [],
   "source": [
    "from sklearn.model_selection import train_test_split\n",
    "X_train, X_test, y_train, y_test = train_test_split(X, y, test_size=0.20)\n",
    "\n",
    "scaler = StandardScaler() \n",
    "X_trained = scaler.fit_transform(X_train)\n",
    "X_test = scaler.transform(X_test)"
   ]
  },
  {
   "cell_type": "code",
   "execution_count": 157,
   "metadata": {},
   "outputs": [
    {
     "data": {
      "text/plain": [
       "Text(0, 0.5, 'Cumulative Explained Variance')"
      ]
     },
     "execution_count": 157,
     "metadata": {},
     "output_type": "execute_result"
    },
    {
     "data": {
      "image/png": "[encoded data removed]",
      "text/plain": [
       "<Figure size 432x288 with 1 Axes>"
      ]
     },
     "metadata": {
      "needs_background": "light"
     },
     "output_type": "display_data"
    }
   ],
   "source": [
    "from sklearn.decomposition import PCA\n",
    "pca = PCA()\n",
    "pca.fit(X_train)\n",
    "features = range(pca.n_components_)\n",
    "\n",
    "plt.plot(pca.explained_variance_ratio_.cumsum())\n",
    "plt.xlabel('Number of components')\n",
    "plt.ylabel('Cumulative Explained Variance')"
   ]
  },
  {
   "cell_type": "raw",
   "metadata": {},
   "source": [
    "Same reason as before I will not be using pca decomposotion because it is selecting for one feature."
   ]
  },
  {
   "cell_type": "code",
   "execution_count": 195,
   "metadata": {},
   "outputs": [
    {
     "name": "stdout",
     "output_type": "stream",
     "text": [
      "Accuracy: 0.8993552765524262\n",
      "AUC: 0.5031018636993027\n",
      "Mean Absolute Error: 1.6352222599253479\n",
      "Mean Squared Error: 0.1010519172039362\n",
      "Root Mean Squared Error: 0.31788664206590406\n",
      "Mean cross validation test score: 0.9652689557007929\n",
      "Mean cross validation train score: 0.9731809314238378\n"
     ]
    }
   ],
   "source": [
    "RFC_Model = RandomForestClassifier()\n",
    "RFC_Model.fit(X_train, y_train)\n",
    "y_pred = RFC_Model.predict(X_test)\n",
    "RFC_Accuracy = accuracy_score(y_test, y_pred)\n",
    "print(\"Accuracy: \" + str(RFC_Accuracy))\n",
    "\n",
    "RFC_AUC = roc_auc_score(y_test, y_pred) \n",
    "print(\"AUC: \" + str(RFC_AUC))\n",
    "\n",
    "RFC_MAE = metrics.mean_absolute_error(y_test, y_pred)\n",
    "RFC_MSE = metrics.mean_squared_error(y_test, y_pred)\n",
    "RFC_RMSE = np.sqrt(metrics.mean_squared_error(y_test, y_pred))\n",
    "print('Mean Absolute Error:', RFC_MAE)\n",
    "print('Mean Squared Error:', RFC_MSE)\n",
    "print('Root Mean Squared Error:', RFC_RMSE)\n",
    "\n",
    "cv_scores_test= cross_val_score(RFC_Model,X_test,y_test,cv=5,scoring='roc_auc')\n",
    "cv_scores_train= cross_val_score(RFC_Model,X_train,y_train,cv=5,scoring='roc_auc')\n",
    "cv_scores_rf_test= cv_scores_test.mean()\n",
    "cv_scores_rf_train= cv_scores_train.mean()\n",
    "\n",
    "print ('Mean cross validation test score: ' +str(cv_scores_rf_test))\n",
    "print ('Mean cross validation train score: ' +str(cv_scores_rf_train))"
   ]
  },
  {
   "cell_type": "code",
   "execution_count": 196,
   "metadata": {},
   "outputs": [
    {
     "name": "stdout",
     "output_type": "stream",
     "text": [
      "Accuracy: 0.48924329826942653\n",
      "AUC: 0.6040974115409873\n",
      "Mean Absolute Error: 123.98561248727519\n",
      "Mean Squared Error: 0.5107567017305734\n",
      "Root Mean Squared Error: 0.7146724436625309\n"
     ]
    },
    {
     "name": "stderr",
     "output_type": "stream",
     "text": [
      "/Users/nicholasseguljic/opt/anaconda3/lib/python3.7/site-packages/sklearn/linear_model/_logistic.py:940: ConvergenceWarning: lbfgs failed to converge (status=1):\n",
      "STOP: TOTAL NO. of ITERATIONS REACHED LIMIT.\n",
      "\n",
      "Increase the number of iterations (max_iter) or scale the data as shown in:\n",
      "    https://scikit-learn.org/stable/modules/preprocessing.html\n",
      "Please also refer to the documentation for alternative solver options:\n",
      "    https://scikit-learn.org/stable/modules/linear_model.html#logistic-regression\n",
      "  extra_warning_msg=_LOGISTIC_SOLVER_CONVERGENCE_MSG)\n"
     ]
    },
    {
     "name": "stdout",
     "output_type": "stream",
     "text": [
      "Mean cross validation test score: 0.9251075168899764\n",
      "Mean cross validation train score: 0.833969998388189\n"
     ]
    }
   ],
   "source": [
    "LR_Model = LogisticRegression()\n",
    "LR_Model.fit(X_train, y_train)\n",
    "y_pred = LR_Model.predict(X_test)\n",
    "LR_Accuracy = accuracy_score(y_test, y_pred)\n",
    "print(\"Accuracy: \" + str(LR_Accuracy))\n",
    "\n",
    "LR_Model.score(X_test, y_test)\n",
    "\n",
    "LR_AUC = roc_auc_score(y_test, y_pred) \n",
    "print(\"AUC: \" + str(LR_AUC))\n",
    "\n",
    "LR_MAE = metrics.mean_absolute_error(y_test, y_pred)\n",
    "LR_MSE = metrics.mean_squared_error(y_test, y_pred)\n",
    "LR_RMSE = np.sqrt(metrics.mean_squared_error(y_test, y_pred))\n",
    "print('Mean Absolute Error:', LR_MAE)\n",
    "print('Mean Squared Error:', LR_MSE)\n",
    "print('Root Mean Squared Error:', LR_RMSE)\n",
    "cv_scores_test= cross_val_score(LR_Model,X_test,y_test,cv=5,scoring='roc_auc')\n",
    "cv_scores_train= cross_val_score(LR_Model,X_train,y_train,cv=5,scoring='roc_auc')\n",
    "cv_scores_rf_test= cv_scores_test.mean()\n",
    "cv_scores_rf_train= cv_scores_train.mean()\n",
    "\n",
    "print ('Mean cross validation test score: ' +str(cv_scores_rf_test))\n",
    "print ('Mean cross validation train score: ' +str(cv_scores_rf_train))"
   ]
  },
  {
   "cell_type": "code",
   "execution_count": 197,
   "metadata": {},
   "outputs": [
    {
     "name": "stdout",
     "output_type": "stream",
     "text": [
      "Accuracy: 0.09725144214455378\n",
      "AUC: 0.5\n",
      "Mean Absolute Error: 230.2008822531388\n",
      "Mean Squared Error: 0.9027485578554462\n",
      "Root Mean Squared Error: 0.9501308109178684\n",
      "Mean cross validation test score: 0.8557527370633444\n",
      "Mean cross validation train score: 0.9218453576872843\n"
     ]
    }
   ],
   "source": [
    "KNN_Model = KNeighborsClassifier()\n",
    "KNN_Model.fit(X_train, y_train)\n",
    "y_pred = KNN_Model.predict(X_test)\n",
    "KNN_Accuracy = accuracy_score(y_test, y_pred)\n",
    "print(\"Accuracy: \" + str(KNN_Accuracy))\n",
    "\n",
    "KNN_AUC = roc_auc_score(y_test, y_pred) \n",
    "print(\"AUC: \" + str(KNN_AUC))\n",
    "\n",
    "KNN_MAE = metrics.mean_absolute_error(y_test, y_pred)\n",
    "KNN_MSE = metrics.mean_squared_error(y_test, y_pred)\n",
    "KNN_RMSE = np.sqrt(metrics.mean_squared_error(y_test, y_pred))\n",
    "print('Mean Absolute Error:',KNN_MAE)\n",
    "print('Mean Squared Error:', KNN_MSE)\n",
    "print('Root Mean Squared Error:', KNN_RMSE)\n",
    "\n",
    "\n",
    "\n",
    "cv_scores_test= cross_val_score(KNN_Model,X_test,y_test,cv=5,scoring='roc_auc')\n",
    "cv_scores_train= cross_val_score(KNN_Model,X_train,y_train,cv=5,scoring='roc_auc')\n",
    "cv_scores_rf_test= cv_scores_test.mean()\n",
    "cv_scores_rf_train= cv_scores_train.mean()\n",
    "\n",
    "print ('Mean cross validation test score: ' +str(cv_scores_rf_test))\n",
    "print ('Mean cross validation train score: ' +str(cv_scores_rf_train))"
   ]
  },
  {
   "cell_type": "code",
   "execution_count": 202,
   "metadata": {},
   "outputs": [
    {
     "name": "stdout",
     "output_type": "stream",
     "text": [
      "Accuracy: 0.09725144214455378\n",
      "AUC: 0.5\n",
      "Mean Absolute Error: 230.2008822531388\n",
      "Mean Squared Error: 0.9027485578554462\n",
      "Root Mean Squared Error: 0.9501308109178684\n",
      "Mean cross validation test score: 0.8090407160303741\n",
      "Mean cross validation train score: 0.8266760002540998\n"
     ]
    }
   ],
   "source": [
    "DT_Model = DecisionTreeClassifier()\n",
    "DT_Model.fit(X_train, y_train)\n",
    "y_pred = DT_Model.predict(X_test)\n",
    "DT_Accuracy = accuracy_score(y_test, y_pred)\n",
    "print(\"Accuracy: \" + str(DT_Accuracy))\n",
    "\n",
    "DT_AUC = roc_auc_score(y_test, y_pred) \n",
    "print(\"AUC: \" + str(DT_AUC))\n",
    "\n",
    "DT_MAE = metrics.mean_absolute_error(y_test, y_pred)\n",
    "DT_MSE = metrics.mean_squared_error(y_test, y_pred)\n",
    "DT_RMSE = np.sqrt(metrics.mean_squared_error(y_test, y_pred))\n",
    "print('Mean Absolute Error:',DT_MAE)\n",
    "print('Mean Squared Error:', DT_MSE)\n",
    "print('Root Mean Squared Error:', DT_RMSE)\n",
    "\n",
    "cv_scores_test= cross_val_score(DT_Model,X_test,y_test,cv=5,scoring='roc_auc')\n",
    "cv_scores_train= cross_val_score(DT_Model,X_train,y_train,cv=5,scoring='roc_auc')\n",
    "cv_scores_rf_test= cv_scores_test.mean()\n",
    "cv_scores_rf_train= cv_scores_train.mean()\n",
    "\n",
    "print ('Mean cross validation test score: ' +str(cv_scores_rf_test))\n",
    "print ('Mean cross validation train score: ' +str(cv_scores_rf_train))"
   ]
  },
  {
   "cell_type": "code",
   "execution_count": 199,
   "metadata": {},
   "outputs": [
    {
     "name": "stdout",
     "output_type": "stream",
     "text": [
      "Accuracy: 0.2473023413640991\n",
      "AUC: 0.5\n",
      "Mean Absolute Error: 0.09725144214455378\n",
      "Mean Squared Error: 0.09725144214455378\n",
      "Root Mean Squared Error: 0.3118516348274509\n",
      "Mean cross validation test score: 0.9574537082312504\n",
      "Mean cross validation train score: 0.9575664648440576\n"
     ]
    }
   ],
   "source": [
    "AB_Model = AdaBoostClassifier()\n",
    "AB_Model.fit(X_train, y_train)\n",
    "y_pred = AB_Model.predict(X_test)\n",
    "AB_Accuracy = accuracy_score(y_test, AB_Predict)\n",
    "print(\"Accuracy: \" + str(AB_Accuracy))\n",
    "\n",
    "AB_AUC = roc_auc_score(y_test, y_pred) \n",
    "print(\"AUC: \" + str(KNN_AUC))\n",
    "\n",
    "AB_MAE = metrics.mean_absolute_error(y_test, y_pred)\n",
    "AB_MSE = metrics.mean_squared_error(y_test, y_pred)\n",
    "AB_RMSE = np.sqrt(metrics.mean_squared_error(y_test, y_pred))\n",
    "print('Mean Absolute Error:',AB_MAE)\n",
    "print('Mean Squared Error:', AB_MSE)\n",
    "print('Root Mean Squared Error:', AB_RMSE)\n",
    "\n",
    "\n",
    "cv_scores_test= cross_val_score(AB_Model,X_test,y_test,cv=5,scoring='roc_auc')\n",
    "cv_scores_train= cross_val_score(AB_Model,X_train,y_train,cv=5,scoring='roc_auc')\n",
    "cv_scores_rf_test= cv_scores_test.mean()\n",
    "cv_scores_rf_train= cv_scores_train.mean()\n",
    "\n",
    "print ('Mean cross validation test score: ' +str(cv_scores_rf_test))\n",
    "print ('Mean cross validation train score: ' +str(cv_scores_rf_train))"
   ]
  },
  {
   "cell_type": "code",
   "execution_count": 200,
   "metadata": {},
   "outputs": [],
   "source": [
    "model_performance = pd.DataFrame({'Model': ['LogisticRegression', 'RandomForestClassifier',\n",
    "                                                      'KNeighborsClassifier',\n",
    "                                                      'DecisionTreeClassifier','AdaBoostClassifier'\n",
    "                                                      ],\n",
    "                                            'Accuracy': [LR_Accuracy,\n",
    "                                                         RFC_Accuracy,\n",
    "                                                         KNN_Accuracy,\n",
    "                                                         DT_Accuracy,AB_Accuracy\n",
    "                                                         ],\n",
    "                                            'MAE': [LR_MAE,\n",
    "                                                         RFC_MAE,\n",
    "                                                         KNN_MAE,\n",
    "                                                         DT_MAE,AB_MAE\n",
    "                                                         ],\n",
    "                                            'MSE': [LR_MSE,\n",
    "                                                         RFC_MSE,\n",
    "                                                         KNN_MSE,\n",
    "                                                         DT_MSE,AB_MSE\n",
    "                                                         ],\n",
    "                                            'RMSE': [LR_RMSE,\n",
    "                                                         RFC_RMSE,\n",
    "                                                         KNN_RMSE,\n",
    "                                                         DT_RMSE,AB_RMSE\n",
    "                                                         ]})\n"
   ]
  },
  {
   "cell_type": "code",
   "execution_count": 201,
   "metadata": {},
   "outputs": [
    {
     "data": {
      "text/html": [
       "<div>\n",
       "<style scoped>\n",
       "    .dataframe tbody tr th:only-of-type {\n",
       "        vertical-align: middle;\n",
       "    }\n",
       "\n",
       "    .dataframe tbody tr th {\n",
       "        vertical-align: top;\n",
       "    }\n",
       "\n",
       "    .dataframe thead th {\n",
       "        text-align: right;\n",
       "    }\n",
       "</style>\n",
       "<table border=\"1\" class=\"dataframe\">\n",
       "  <thead>\n",
       "    <tr style=\"text-align: right;\">\n",
       "      <th></th>\n",
       "      <th>Model</th>\n",
       "      <th>Accuracy</th>\n",
       "      <th>MAE</th>\n",
       "      <th>MSE</th>\n",
       "      <th>RMSE</th>\n",
       "    </tr>\n",
       "  </thead>\n",
       "  <tbody>\n",
       "    <tr>\n",
       "      <th>1</th>\n",
       "      <td>RandomForestClassifier</td>\n",
       "      <td>0.899355</td>\n",
       "      <td>1.635222</td>\n",
       "      <td>0.101052</td>\n",
       "      <td>0.317887</td>\n",
       "    </tr>\n",
       "    <tr>\n",
       "      <th>0</th>\n",
       "      <td>LogisticRegression</td>\n",
       "      <td>0.489243</td>\n",
       "      <td>123.985612</td>\n",
       "      <td>0.510757</td>\n",
       "      <td>0.714672</td>\n",
       "    </tr>\n",
       "    <tr>\n",
       "      <th>4</th>\n",
       "      <td>AdaBoostClassifier</td>\n",
       "      <td>0.247302</td>\n",
       "      <td>0.097251</td>\n",
       "      <td>0.097251</td>\n",
       "      <td>0.311852</td>\n",
       "    </tr>\n",
       "    <tr>\n",
       "      <th>2</th>\n",
       "      <td>KNeighborsClassifier</td>\n",
       "      <td>0.097251</td>\n",
       "      <td>230.200882</td>\n",
       "      <td>0.902749</td>\n",
       "      <td>0.950131</td>\n",
       "    </tr>\n",
       "    <tr>\n",
       "      <th>3</th>\n",
       "      <td>DecisionTreeClassifier</td>\n",
       "      <td>0.097251</td>\n",
       "      <td>230.200882</td>\n",
       "      <td>0.902749</td>\n",
       "      <td>0.950131</td>\n",
       "    </tr>\n",
       "  </tbody>\n",
       "</table>\n",
       "</div>"
      ],
      "text/plain": [
       "                    Model  Accuracy         MAE       MSE      RMSE\n",
       "1  RandomForestClassifier  0.899355    1.635222  0.101052  0.317887\n",
       "0      LogisticRegression  0.489243  123.985612  0.510757  0.714672\n",
       "4      AdaBoostClassifier  0.247302    0.097251  0.097251  0.311852\n",
       "2    KNeighborsClassifier  0.097251  230.200882  0.902749  0.950131\n",
       "3  DecisionTreeClassifier  0.097251  230.200882  0.902749  0.950131"
      ]
     },
     "execution_count": 201,
     "metadata": {},
     "output_type": "execute_result"
    }
   ],
   "source": [
    "model_performance.sort_values(by = \"Accuracy\", ascending = False)"
   ]
  },
  {
   "cell_type": "code",
   "execution_count": 32,
   "metadata": {},
   "outputs": [
    {
     "data": {
      "text/plain": [
       "GridSearchCV(cv=5, error_score=nan,\n",
       "             estimator=RandomForestClassifier(bootstrap=True, ccp_alpha=0.0,\n",
       "                                              class_weight=None,\n",
       "                                              criterion='gini', max_depth=None,\n",
       "                                              max_features='auto',\n",
       "                                              max_leaf_nodes=None,\n",
       "                                              max_samples=None,\n",
       "                                              min_impurity_decrease=0.0,\n",
       "                                              min_impurity_split=None,\n",
       "                                              min_samples_leaf=1,\n",
       "                                              min_samples_split=2,\n",
       "                                              min_weight_fraction_leaf=0.0,\n",
       "                                              n_estimators=100, n_jobs=None,\n",
       "                                              oob_score=False,\n",
       "                                              random_state=None, verbose=0,\n",
       "                                              warm_start=False),\n",
       "             iid='deprecated', n_jobs=None,\n",
       "             param_grid={'bootstrap': [True], 'max_depth': [10, 40],\n",
       "                         'max_features': [2, 3], 'min_samples_leaf': [2, 4],\n",
       "                         'min_samples_split': [5, 10],\n",
       "                         'n_estimators': [600, 1000]},\n",
       "             pre_dispatch='2*n_jobs', refit=True, return_train_score=False,\n",
       "             scoring=None, verbose=0)"
      ]
     },
     "execution_count": 32,
     "metadata": {},
     "output_type": "execute_result"
    }
   ],
   "source": [
    "param_grid = {'bootstrap': [True],\n",
    " 'max_depth': [10, 40],\n",
    " 'max_features': [2, 3],\n",
    " 'min_samples_leaf': [2, 4],\n",
    " 'min_samples_split': [5, 10],\n",
    " 'n_estimators': [600, 1000]}\n",
    "rf = RandomForestClassifier()\n",
    "rf_cv= GridSearchCV(rf,param_grid,cv=5)\n",
    "rf_cv.fit(X,y)"
   ]
  },
  {
   "cell_type": "code",
   "execution_count": 33,
   "metadata": {},
   "outputs": [
    {
     "data": {
      "text/plain": [
       "{'bootstrap': True,\n",
       " 'max_depth': 40,\n",
       " 'max_features': 2,\n",
       " 'min_samples_leaf': 4,\n",
       " 'min_samples_split': 5,\n",
       " 'n_estimators': 1000}"
      ]
     },
     "execution_count": 33,
     "metadata": {},
     "output_type": "execute_result"
    }
   ],
   "source": [
    "rf_cv.best_params_"
   ]
  },
  {
   "cell_type": "code",
   "execution_count": 154,
   "metadata": {},
   "outputs": [
    {
     "name": "stdout",
     "output_type": "stream",
     "text": [
      "Accuracy: 0.9034950797421106\n",
      "AUC: 0.5055391962193823\n",
      "Mean cross validation test score: 0.955077746550893\n",
      "Mean cross validation train score: 0.9644744855320806\n",
      "Standard deviation cross validation scores: 0.00781750846028316\n",
      "Mean Absolute Error: 0.09650492025788938\n",
      "Mean Squared Error: 0.09650492025788938\n",
      "Root Mean Squared Error: 0.310652410674518\n"
     ]
    }
   ],
   "source": [
    "RFC_Model = RandomForestClassifier(bootstrap= True,\n",
    " max_depth= 40,\n",
    " max_features= 2,\n",
    " min_samples_leaf= 4,\n",
    " min_samples_split= 5,\n",
    " n_estimators=1000)\n",
    "\n",
    "\n",
    "RFC_Model.fit(X_train, y_train)\n",
    "y_pred = RFC_Model.predict(X_test)\n",
    "RFC_Accuracy = accuracy_score(y_test, y_pred)\n",
    "print(\"Accuracy: \" + str(RFC_Accuracy))\n",
    "\n",
    "RFC_AUC = roc_auc_score(y_test, RFC_Predict) \n",
    "print(\"AUC: \" + str(RFC_AUC))\n",
    "\n",
    "cv_scores_test= cross_val_score(RFC_Model,X_test,y_test,cv=5,scoring='roc_auc')\n",
    "cv_scores_train= cross_val_score(RFC_Model,X_train,y_train,cv=5,scoring='roc_auc')\n",
    "cv_scores_rf_test= cv_scores_test.mean()\n",
    "cv_scores_rf_train= cv_scores_train.mean()\n",
    "cv_scores_std_rf= cv_scores_test.std()\n",
    "print ('Mean cross validation test score: ' +str(cv_scores_rf_test))\n",
    "print ('Mean cross validation train score: ' +str(cv_scores_rf_train))\n",
    "print ('Standard deviation cross validation scores: ' +str(cv_scores_std_rf))\n",
    "\n",
    "print('Mean Absolute Error:', metrics.mean_absolute_error(y_test, y_pred))\n",
    "print('Mean Squared Error:', metrics.mean_squared_error(y_test, y_pred))\n",
    "print('Root Mean Squared Error:', np.sqrt(metrics.mean_squared_error(y_test, y_pred)))"
   ]
  },
  {
   "cell_type": "raw",
   "metadata": {},
   "source": [
    "Just to see what happens, what if I look at a single genre? How accurate can a model be if I want to know if it is popular or unpopular by my predefined standards?"
   ]
  },
  {
   "cell_type": "code",
   "execution_count": 48,
   "metadata": {},
   "outputs": [
    {
     "name": "stdout",
     "output_type": "stream",
     "text": [
      "Index(['Unnamed: 0', 'acousticness', 'danceability', 'duration_ms', 'energy',\n",
      "       'instrumentalness', 'liveness', 'loudness', 'speechiness', 'tempo',\n",
      "       'valence', 'lognorm_duration', 'Count', 'genre_Rap', 'key_A', 'key_A#',\n",
      "       'key_B', 'key_C', 'key_C#', 'key_D', 'key_D#', 'key_E', 'key_F',\n",
      "       'key_F#', 'key_G', 'key_G#', 'mode_Major', 'mode_Minor',\n",
      "       'time_signature_0/4', 'time_signature_1/4', 'time_signature_3/4',\n",
      "       'time_signature_4/4', 'time_signature_5/4',\n",
      "       'bucket_(100000.0, 300000.0]', 'bucket_(300000.0, 500000.0]',\n",
      "       'bucket_(500000.0, 700000.0]', 'bucket_(700000.0, 900000.0]'],\n",
      "      dtype='object')\n",
      "Accuracy: 0.9978343259339469\n",
      "AUC: 0.5\n"
     ]
    }
   ],
   "source": [
    "df = pd.read_csv('Data.csv')\n",
    "df = df.drop(['popularity','artist_name','track_name','track_id'],axis=1)\n",
    "df = df[df['genre']=='Rap']\n",
    "df = pd.get_dummies(df)\n",
    "df.head()\n",
    "\n",
    "X = df.drop(['popular_not-popular','popular_popular'],axis=1)\n",
    "y = df['popular_popular']\n",
    "print(X.columns)\n",
    "\n",
    "from sklearn.model_selection import train_test_split\n",
    "X_train, X_test, y_train, y_test = train_test_split(X, y, test_size=0.20)\n",
    "\n",
    "scaler = StandardScaler() \n",
    "X_trained = scaler.fit_transform(X_train)\n",
    "X_test = scaler.transform(X_test)\n",
    "\n",
    "RFC_Model = RandomForestClassifier()\n",
    "RFC_Model.fit(X_train, y_train)\n",
    "RFC_Predict = RFC_Model.predict(X_test)\n",
    "RFC_Accuracy = accuracy_score(y_test, RFC_Predict)\n",
    "print(\"Accuracy: \" + str(RFC_Accuracy))\n",
    "\n",
    "RFC_AUC = roc_auc_score(y_test, RFC_Predict) \n",
    "print(\"AUC: \" + str(RFC_AUC))"
   ]
  },
  {
   "cell_type": "raw",
   "metadata": {},
   "source": [
    "Really accurate.\n",
    "\n",
    "Let's look at what features really matter to the best model, the RFC model."
   ]
  },
  {
   "cell_type": "code",
   "execution_count": 158,
   "metadata": {},
   "outputs": [
    {
     "name": "stdout",
     "output_type": "stream",
     "text": [
      "                        Features  Importance scores\n",
      "0                     Unnamed: 0           0.000000\n",
      "1                   acousticness           0.000003\n",
      "2                   danceability           0.000219\n",
      "3                    duration_ms           0.000308\n",
      "4                         energy           0.000773\n",
      "5               instrumentalness           0.001062\n",
      "6                       liveness           0.001185\n",
      "7                       loudness           0.001325\n",
      "8                    speechiness           0.001343\n",
      "9                          tempo           0.001405\n",
      "10                       valence           0.001478\n",
      "11              lognorm_duration           0.001545\n",
      "12                         Count           0.001572\n",
      "13             genre_Alternative           0.001599\n",
      "14                   genre_Blues           0.001602\n",
      "15                 genre_Country           0.001638\n",
      "16                   genre_Dance           0.001668\n",
      "17                   genre_Indie           0.001679\n",
      "18                    genre_Jazz           0.001700\n",
      "19                     genre_Pop           0.001931\n",
      "20                     genre_Rap           0.003131\n",
      "21                         key_A           0.003139\n",
      "22                        key_A#           0.003172\n",
      "23                         key_B           0.005650\n",
      "24                         key_C           0.006787\n",
      "25                        key_C#           0.007493\n",
      "26                         key_D           0.007579\n",
      "27                        key_D#           0.007739\n",
      "28                         key_E           0.009229\n",
      "29                         key_F           0.016523\n",
      "30                        key_F#           0.021377\n",
      "31                         key_G           0.022529\n",
      "32                        key_G#           0.023005\n",
      "33                    mode_Major           0.024125\n",
      "34                    mode_Minor           0.026150\n",
      "35            time_signature_0/4           0.026221\n",
      "36            time_signature_1/4           0.026813\n",
      "37            time_signature_3/4           0.027658\n",
      "38            time_signature_4/4           0.032755\n",
      "39            time_signature_5/4           0.037300\n",
      "40   bucket_(100000.0, 300000.0]           0.039618\n",
      "41   bucket_(300000.0, 500000.0]           0.041830\n",
      "42   bucket_(500000.0, 700000.0]           0.051450\n",
      "43   bucket_(700000.0, 900000.0]           0.117800\n",
      "44  bucket_(900000.0, 1000000.0]           0.386895\n"
     ]
    },
    {
     "data": {
      "text/plain": [
       "Text(0.5, 1.0, 'Feature Importances for RFC model')"
      ]
     },
     "execution_count": 158,
     "metadata": {},
     "output_type": "execute_result"
    },
    {
     "data": {
      "image/png": "[encoded data removed]",
      "text/plain": [
       "<Figure size 1440x720 with 1 Axes>"
      ]
     },
     "metadata": {
      "needs_background": "light"
     },
     "output_type": "display_data"
    }
   ],
   "source": [
    "features = X\n",
    "importances = list(RFC_Model.feature_importances_)\n",
    "imp=np.sort(importances)\n",
    "tab=pd.DataFrame(list(zip(X,imp)),columns =['Features', 'Importance scores']) \n",
    "print(tab)\n",
    "\n",
    "\n",
    "plt.figure(figsize=(20,10))\n",
    "\n",
    "index = [0,1,\n",
    "2,\n",
    "3,\n",
    "4,\n",
    "5,\n",
    "6,\n",
    "7,\n",
    "8,\n",
    "9,\n",
    "10,\n",
    "11,\n",
    "12,\n",
    "13,\n",
    "14,\n",
    "15,\n",
    "16,\n",
    "17,\n",
    "18,\n",
    "19,\n",
    "20,\n",
    "21,\n",
    "22,\n",
    "23,\n",
    "24,\n",
    "25,\n",
    "26,\n",
    "27,\n",
    "28,\n",
    "29,\n",
    "30,\n",
    "31,\n",
    "32,\n",
    "33,\n",
    "34,\n",
    "35,\n",
    "36,\n",
    "37,\n",
    "38,\n",
    "39,\n",
    "40,\n",
    "41,\n",
    "42,\n",
    "43,\n",
    "44]\n",
    "_=plt.barh(index,imp, align='center',color='gold',edgecolor='k')\n",
    "plt.xlabel('Relative Importance',fontsize=15)\n",
    "plt.ylabel('Features',fontsize=15)\n",
    "plt.yticks(index, features)\n",
    "plt.title('Feature Importances for RFC model',fontsize=15)"
   ]
  },
  {
   "cell_type": "raw",
   "metadata": {},
   "source": [
    "Going forward knowing the importance of these features may prove useful for further model development. As you can see features like acousticness add almost no value, whereas features like the time buckets seem to contribute a lot toward populairty. This graph doesn't add up to what the PCA was conveying, that one feature explains most of the variance, so my choice to not move forward with it and reduce features was most likely right. \n",
    "\n",
    "Conclusion\n",
    "\n",
    "We have evaluated each models in terms of model accuracy score, and MAE,RMSE,MSE scores for both the training and test data, and plotted them. The  best performing model is the Random Forest Classifier with a binary output of popular versus unpopular music. The prior models abiltiy to predict strictly populairty was very low(<5%) and therfore makes me think that it may be nearly impossible to predict with just metrics alone. In order to increase model performance going forward it may be best to look into specific features that contribute the most to popularity, potentialy looking into a wider range of hyperparamters and incorparating more unsupervised learning beforehand, as PCA was done but not implemanted due to the fact that it reduces dimensions to one. \n",
    "\n",
    "While model performance is at 4% for popularity prediction, the models for prediciting if a song would be popular or not performed at around 90%, a decent accuracy score. This may be due to the simple fact that absolute populairty may not be predictable from quantatative metrics produced by the spotify API and is more nuanced than what spotify currently has for data available to the public. \n",
    "\n"
   ]
  }
 ],
 "metadata": {
  "kernelspec": {
   "display_name": "Python 3",
   "language": "python",
   "name": "python3"
  },
  "language_info": {
   "codemirror_mode": {
    "name": "ipython",
    "version": 3
   },
   "file_extension": ".py",
   "mimetype": "text/x-python",
   "name": "python",
   "nbconvert_exporter": "python",
   "pygments_lexer": "ipython3",
   "version": "3.7.6"
  }
 },
 "nbformat": 4,
 "nbformat_minor": 4
}
