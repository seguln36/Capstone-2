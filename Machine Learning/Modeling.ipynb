{
 "cells": [
  {
   "cell_type": "raw",
   "metadata": {},
   "source": [
    "In this section we're going to look at the predictive power of certain variables by looking into a few different machine learning models and try tounderstand which features are most important for the given models.\n",
    "\n",
    "The questions of interest:\n",
    "Can popularity of a song be predicted by the features provided by the Spotify API(acousticness, danceability, durationm energy, etc.)  and the few features engineered in the previous notebook(time buckets, popular/unpopular, artist song count, etc.)?\n",
    "Which model will best predict the populairty score?\n",
    "If none of the models are up to standard, could other models be developed to classify a song as popular or unpopular as defined by the criteria from other notebooks?\n",
    "What features matter most to the best model?\n",
    "After undersdtanding what models and features are best at predicting, what future work can be done to better predict song popularity?\n",
    "\n",
    "I will start by importing the neccesary modules and data, then move into preprocessing of the data and machine learning."
   ]
  },
  {
   "cell_type": "code",
   "execution_count": 54,
   "metadata": {},
   "outputs": [],
   "source": [
    "from sklearn.preprocessing import StandardScaler\n",
    "import pandas as pd\n",
    "import numpy as np\n",
    "import matplotlib.pyplot as plt\n",
    "import seaborn as sns\n",
    "%matplotlib inline\n"
   ]
  },
  {
   "cell_type": "code",
   "execution_count": 92,
   "metadata": {},
   "outputs": [
    {
     "data": {
      "text/html": [
       "<div>\n",
       "<style scoped>\n",
       "    .dataframe tbody tr th:only-of-type {\n",
       "        vertical-align: middle;\n",
       "    }\n",
       "\n",
       "    .dataframe tbody tr th {\n",
       "        vertical-align: top;\n",
       "    }\n",
       "\n",
       "    .dataframe thead th {\n",
       "        text-align: right;\n",
       "    }\n",
       "</style>\n",
       "<table border=\"1\" class=\"dataframe\">\n",
       "  <thead>\n",
       "    <tr style=\"text-align: right;\">\n",
       "      <th></th>\n",
       "      <th>Unnamed: 0</th>\n",
       "      <th>popularity</th>\n",
       "      <th>acousticness</th>\n",
       "      <th>danceability</th>\n",
       "      <th>duration_ms</th>\n",
       "      <th>energy</th>\n",
       "      <th>instrumentalness</th>\n",
       "      <th>liveness</th>\n",
       "      <th>loudness</th>\n",
       "      <th>speechiness</th>\n",
       "      <th>...</th>\n",
       "      <th>time_signature_3/4</th>\n",
       "      <th>time_signature_4/4</th>\n",
       "      <th>time_signature_5/4</th>\n",
       "      <th>bucket_(100000.0, 300000.0]</th>\n",
       "      <th>bucket_(300000.0, 500000.0]</th>\n",
       "      <th>bucket_(500000.0, 700000.0]</th>\n",
       "      <th>bucket_(700000.0, 900000.0]</th>\n",
       "      <th>bucket_(900000.0, 1000000.0]</th>\n",
       "      <th>popular_not-popular</th>\n",
       "      <th>popular_popular</th>\n",
       "    </tr>\n",
       "  </thead>\n",
       "  <tbody>\n",
       "    <tr>\n",
       "      <th>0</th>\n",
       "      <td>242</td>\n",
       "      <td>84</td>\n",
       "      <td>0.5440</td>\n",
       "      <td>0.515</td>\n",
       "      <td>209274</td>\n",
       "      <td>0.479</td>\n",
       "      <td>0.005980</td>\n",
       "      <td>0.1910</td>\n",
       "      <td>-7.458</td>\n",
       "      <td>0.0261</td>\n",
       "      <td>...</td>\n",
       "      <td>0</td>\n",
       "      <td>1</td>\n",
       "      <td>0</td>\n",
       "      <td>1</td>\n",
       "      <td>0</td>\n",
       "      <td>0</td>\n",
       "      <td>0</td>\n",
       "      <td>0</td>\n",
       "      <td>0</td>\n",
       "      <td>1</td>\n",
       "    </tr>\n",
       "    <tr>\n",
       "      <th>1</th>\n",
       "      <td>243</td>\n",
       "      <td>86</td>\n",
       "      <td>0.0116</td>\n",
       "      <td>0.464</td>\n",
       "      <td>239507</td>\n",
       "      <td>0.852</td>\n",
       "      <td>0.000000</td>\n",
       "      <td>0.1080</td>\n",
       "      <td>-3.804</td>\n",
       "      <td>0.0670</td>\n",
       "      <td>...</td>\n",
       "      <td>0</td>\n",
       "      <td>1</td>\n",
       "      <td>0</td>\n",
       "      <td>1</td>\n",
       "      <td>0</td>\n",
       "      <td>0</td>\n",
       "      <td>0</td>\n",
       "      <td>0</td>\n",
       "      <td>0</td>\n",
       "      <td>1</td>\n",
       "    </tr>\n",
       "    <tr>\n",
       "      <th>2</th>\n",
       "      <td>244</td>\n",
       "      <td>84</td>\n",
       "      <td>0.7950</td>\n",
       "      <td>0.473</td>\n",
       "      <td>209400</td>\n",
       "      <td>0.371</td>\n",
       "      <td>0.000000</td>\n",
       "      <td>0.1090</td>\n",
       "      <td>-10.219</td>\n",
       "      <td>0.0405</td>\n",
       "      <td>...</td>\n",
       "      <td>0</td>\n",
       "      <td>1</td>\n",
       "      <td>0</td>\n",
       "      <td>1</td>\n",
       "      <td>0</td>\n",
       "      <td>0</td>\n",
       "      <td>0</td>\n",
       "      <td>0</td>\n",
       "      <td>0</td>\n",
       "      <td>1</td>\n",
       "    </tr>\n",
       "    <tr>\n",
       "      <th>3</th>\n",
       "      <td>245</td>\n",
       "      <td>81</td>\n",
       "      <td>0.6190</td>\n",
       "      <td>0.672</td>\n",
       "      <td>174358</td>\n",
       "      <td>0.588</td>\n",
       "      <td>0.241000</td>\n",
       "      <td>0.0992</td>\n",
       "      <td>-9.573</td>\n",
       "      <td>0.1330</td>\n",
       "      <td>...</td>\n",
       "      <td>0</td>\n",
       "      <td>1</td>\n",
       "      <td>0</td>\n",
       "      <td>1</td>\n",
       "      <td>0</td>\n",
       "      <td>0</td>\n",
       "      <td>0</td>\n",
       "      <td>0</td>\n",
       "      <td>0</td>\n",
       "      <td>1</td>\n",
       "    </tr>\n",
       "    <tr>\n",
       "      <th>4</th>\n",
       "      <td>246</td>\n",
       "      <td>79</td>\n",
       "      <td>0.6400</td>\n",
       "      <td>0.545</td>\n",
       "      <td>248467</td>\n",
       "      <td>0.330</td>\n",
       "      <td>0.000007</td>\n",
       "      <td>0.2200</td>\n",
       "      <td>-11.719</td>\n",
       "      <td>0.1640</td>\n",
       "      <td>...</td>\n",
       "      <td>0</td>\n",
       "      <td>1</td>\n",
       "      <td>0</td>\n",
       "      <td>1</td>\n",
       "      <td>0</td>\n",
       "      <td>0</td>\n",
       "      <td>0</td>\n",
       "      <td>0</td>\n",
       "      <td>0</td>\n",
       "      <td>1</td>\n",
       "    </tr>\n",
       "  </tbody>\n",
       "</table>\n",
       "<p>5 rows × 48 columns</p>\n",
       "</div>"
      ],
      "text/plain": [
       "   Unnamed: 0  popularity  acousticness  danceability  duration_ms  energy  \\\n",
       "0         242          84        0.5440         0.515       209274   0.479   \n",
       "1         243          86        0.0116         0.464       239507   0.852   \n",
       "2         244          84        0.7950         0.473       209400   0.371   \n",
       "3         245          81        0.6190         0.672       174358   0.588   \n",
       "4         246          79        0.6400         0.545       248467   0.330   \n",
       "\n",
       "   instrumentalness  liveness  loudness  speechiness  ...  time_signature_3/4  \\\n",
       "0          0.005980    0.1910    -7.458       0.0261  ...                   0   \n",
       "1          0.000000    0.1080    -3.804       0.0670  ...                   0   \n",
       "2          0.000000    0.1090   -10.219       0.0405  ...                   0   \n",
       "3          0.241000    0.0992    -9.573       0.1330  ...                   0   \n",
       "4          0.000007    0.2200   -11.719       0.1640  ...                   0   \n",
       "\n",
       "   time_signature_4/4  time_signature_5/4  bucket_(100000.0, 300000.0]  \\\n",
       "0                   1                   0                            1   \n",
       "1                   1                   0                            1   \n",
       "2                   1                   0                            1   \n",
       "3                   1                   0                            1   \n",
       "4                   1                   0                            1   \n",
       "\n",
       "   bucket_(300000.0, 500000.0]  bucket_(500000.0, 700000.0]  \\\n",
       "0                            0                            0   \n",
       "1                            0                            0   \n",
       "2                            0                            0   \n",
       "3                            0                            0   \n",
       "4                            0                            0   \n",
       "\n",
       "   bucket_(700000.0, 900000.0]  bucket_(900000.0, 1000000.0]  \\\n",
       "0                            0                             0   \n",
       "1                            0                             0   \n",
       "2                            0                             0   \n",
       "3                            0                             0   \n",
       "4                            0                             0   \n",
       "\n",
       "   popular_not-popular  popular_popular  \n",
       "0                    0                1  \n",
       "1                    0                1  \n",
       "2                    0                1  \n",
       "3                    0                1  \n",
       "4                    0                1  \n",
       "\n",
       "[5 rows x 48 columns]"
      ]
     },
     "execution_count": 92,
     "metadata": {},
     "output_type": "execute_result"
    }
   ],
   "source": [
    "df = pd.read_csv('Data.csv')\n",
    "array = ['Rap', 'Pop','Country','Alternative','Indie','Jazz','Dance','Blues']\n",
    "df = df.loc[df['genre'].isin(array)]\n",
    "df = df.drop(['artist_name','track_name','track_id'],axis=1)\n",
    "df = pd.get_dummies(df)\n",
    "df.head()"
   ]
  },
  {
   "cell_type": "raw",
   "metadata": {},
   "source": [
    "Feature Selection"
   ]
  },
  {
   "cell_type": "code",
   "execution_count": 93,
   "metadata": {},
   "outputs": [
    {
     "data": {
      "text/plain": [
       "Index(['Unnamed: 0', 'acousticness', 'danceability', 'duration_ms', 'energy',\n",
       "       'instrumentalness', 'liveness', 'loudness', 'speechiness', 'tempo',\n",
       "       'valence', 'lognorm_duration', 'Count', 'genre_Alternative',\n",
       "       'genre_Blues', 'genre_Country', 'genre_Dance', 'genre_Indie',\n",
       "       'genre_Jazz', 'genre_Pop', 'genre_Rap', 'key_A', 'key_A#', 'key_B',\n",
       "       'key_C', 'key_C#', 'key_D', 'key_D#', 'key_E', 'key_F', 'key_F#',\n",
       "       'key_G', 'key_G#', 'mode_Major', 'mode_Minor', 'time_signature_0/4',\n",
       "       'time_signature_1/4', 'time_signature_3/4', 'time_signature_4/4',\n",
       "       'time_signature_5/4', 'bucket_(100000.0, 300000.0]',\n",
       "       'bucket_(300000.0, 500000.0]', 'bucket_(500000.0, 700000.0]',\n",
       "       'bucket_(700000.0, 900000.0]', 'bucket_(900000.0, 1000000.0]'],\n",
       "      dtype='object')"
      ]
     },
     "execution_count": 93,
     "metadata": {},
     "output_type": "execute_result"
    }
   ],
   "source": [
    "X = df.drop(['popularity','popular_not-popular',\n",
    "       'popular_popular'],axis=1)\n",
    "y = df['popularity']\n",
    "X.columns"
   ]
  },
  {
   "cell_type": "code",
   "execution_count": 94,
   "metadata": {},
   "outputs": [],
   "source": [
    "from sklearn.model_selection import train_test_split\n",
    "X_train, X_test, y_train, y_test = train_test_split(X, y, test_size=0.20)\n"
   ]
  },
  {
   "cell_type": "raw",
   "metadata": {},
   "source": [
    "Standardizing Data\n",
    "\n",
    "Data is standardized so all features have the same weight instead of some having more of an influence becauase they range from 0 to 100 as opposed to ranging from 0 to 1."
   ]
  },
  {
   "cell_type": "code",
   "execution_count": 95,
   "metadata": {},
   "outputs": [],
   "source": [
    "scaler = StandardScaler() \n",
    "X_trained = scaler.fit_transform(X_train)\n",
    "X_test = scaler.transform(X_test)\n",
    "\n"
   ]
  },
  {
   "cell_type": "code",
   "execution_count": 59,
   "metadata": {},
   "outputs": [
    {
     "data": {
      "image/png": "[encoded data removed]",
      "text/plain": [
       "<Figure size 432x288 with 1 Axes>"
      ]
     },
     "metadata": {
      "needs_background": "light"
     },
     "output_type": "display_data"
    }
   ],
   "source": [
    "from sklearn.decomposition import PCA\n",
    "pca = PCA()\n",
    "pca.fit(X_train)\n",
    "features = range(pca.n_components_)\n",
    "\n",
    "plt.plot(np.cumsum(pca.explained_variance_ratio_))\n",
    "plt.xlabel('Number of components')\n",
    "plt.ylabel('Cumulative Explained Variance')\n",
    "plt.show()"
   ]
  },
  {
   "cell_type": "raw",
   "metadata": {},
   "source": [
    "Here is the plot of the number of components versus the cumulative explained variance. I will not be transforming the data with any of this information  because the number of components it wants to reduce to is 1 which is too few for a proper analysis.\n"
   ]
  },
  {
   "cell_type": "raw",
   "metadata": {},
   "source": [
    "Import modules and being machine learning.\n",
    "\n",
    "Models will be:\n",
    "LogisticRegression\n",
    "LinearRegression\n",
    "RandomForestRegressor\n",
    "KNeighborsClassifier\n",
    "DecisionTreeClassifier\n",
    "AdaBoostClassifier\n",
    "\n",
    "\n",
    "Cross vlaidation will be performed in order to overcome the random choice of the pair of (train,validation) set and the model is trained using k-1  folds as training data and the model is validated on the remaining section making it less likely for overfitting to occur."
   ]
  },
  {
   "cell_type": "code",
   "execution_count": 62,
   "metadata": {},
   "outputs": [],
   "source": [
    "from sklearn.linear_model import LogisticRegression\n",
    "from sklearn.linear_model import LinearRegression\n",
    "from sklearn.ensemble import RandomForestRegressor\n",
    "from sklearn.preprocessing import StandardScaler\n",
    "from sklearn.ensemble import RandomForestClassifier\n",
    "from sklearn.neighbors import KNeighborsClassifier\n",
    "from sklearn.tree import DecisionTreeClassifier\n",
    "from sklearn.svm import SVC, LinearSVC\n",
    "from sklearn.ensemble import AdaBoostClassifier\n",
    "from xgboost import XGBClassifier\n",
    "from sklearn.metrics import make_scorer, accuracy_score, roc_auc_score \n",
    "from sklearn.model_selection import GridSearchCV\n",
    "from sklearn.model_selection import cross_val_score"
   ]
  },
  {
   "cell_type": "raw",
   "metadata": {},
   "source": [
    "Linear regression has no accuracy score so I will compare these models by looking at the Mean Absolute Error, Root Mean Square Error, and Mean Squared Arror, accuracy can be printed for all other models, but need to look at these three as a way to compare all the models since linear regression is different."
   ]
  },
  {
   "cell_type": "code",
   "execution_count": 63,
   "metadata": {},
   "outputs": [
    {
     "name": "stdout",
     "output_type": "stream",
     "text": [
      "Mean Absolute Error: 16.691206081381246\n",
      "Mean Squared Error: 433.37652561701617\n",
      "Root Mean Squared Error: 20.817697413907624\n",
      "Mean cross validation test score: 0.8215244905406905\n",
      "Mean cross validation train score: 0.8318091739840238\n",
      "Standard deviation cross validation scores: 0.0028931414326630227\n"
     ]
    }
   ],
   "source": [
    "from sklearn import metrics\n",
    "\n",
    "LR_Model = LinearRegression()\n",
    "LR_Model.fit(X_train, y_train)\n",
    "y_pred = LR_Model.predict(X_test)\n",
    "\n",
    "\n",
    "LR_MAE = metrics.mean_absolute_error(y_test, y_pred)\n",
    "LR_MSE = metrics.mean_squared_error(y_test, y_pred)\n",
    "LR_RMSE = np.sqrt(metrics.mean_squared_error(y_test, y_pred))\n",
    "print('Mean Absolute Error:', LR_MAE)\n",
    "print('Mean Squared Error:', LR_MSE)\n",
    "print('Root Mean Squared Error:', LR_RMSE)\n",
    "\n",
    "cv_scores_rf_test= cv_scores_test.mean()\n",
    "cv_scores_rf_train= cv_scores_train.mean()\n",
    "cv_scores_std_rf= cv_scores_test.std()\n",
    "print ('Mean cross validation test score: ' +str(cv_scores_rf_test))\n",
    "print ('Mean cross validation train score: ' +str(cv_scores_rf_train))\n",
    "print ('Standard deviation cross validation scores: ' +str(cv_scores_std_rf))"
   ]
  },
  {
   "cell_type": "code",
   "execution_count": 99,
   "metadata": {},
   "outputs": [
    {
     "name": "stdout",
     "output_type": "stream",
     "text": [
      "Accuracy: 1.0\n",
      "Precision: 1.0\n",
      "Mean Absolute Error: 0.0\n",
      "Mean Squared Error: 0.0\n",
      "Root Mean Squared Error: 0.0\n"
     ]
    },
    {
     "name": "stderr",
     "output_type": "stream",
     "text": [
      "/Users/nicholasseguljic/opt/anaconda3/lib/python3.7/site-packages/sklearn/metrics/_classification.py:1321: UserWarning: Note that pos_label (set to 'positive') is ignored when average != 'binary' (got 'micro'). You may use labels=[pos_label] to specify a single positive class.\n",
      "  % (pos_label, average), UserWarning)\n",
      "/Users/nicholasseguljic/opt/anaconda3/lib/python3.7/site-packages/sklearn/model_selection/_split.py:667: UserWarning: The least populated class in y has only 1 members, which is less than n_splits=5.\n",
      "  % (min_groups, self.n_splits)), UserWarning)\n",
      "/Users/nicholasseguljic/opt/anaconda3/lib/python3.7/site-packages/sklearn/model_selection/_split.py:667: UserWarning: The least populated class in y has only 1 members, which is less than n_splits=5.\n",
      "  % (min_groups, self.n_splits)), UserWarning)\n"
     ]
    },
    {
     "name": "stdout",
     "output_type": "stream",
     "text": [
      "Mean cross validation test score: 0.14930437733288088\n",
      "Mean cross validation train score: 0.26351418684937816\n",
      "Standard deviation cross validation scores: 0.005313492807889617\n"
     ]
    }
   ],
   "source": [
    "RFC_Model = RandomForestClassifier()\n",
    "RFC_Model.fit(X_train, y_train)\n",
    "RFC_Predict = RFC_Model.fit(X_test,y_test)\n",
    "y_pred = RFC_Model.predict(X_test)\n",
    "RFC_Accuracy = metrics.accuracy_score(y_test, y_pred)\n",
    "print(\"Accuracy:\",RFC_Accuracy)\n",
    "print(\"Precision:\",metrics.precision_score(y_test, y_pred,pos_label='positive',\n",
    "                                           average='micro'))\n",
    "\n",
    "RFC_MAE = metrics.mean_absolute_error(y_test, y_pred)\n",
    "RFC_MSE = metrics.mean_squared_error(y_test, y_pred)\n",
    "RFC_RMSE  = np.sqrt(metrics.mean_squared_error(y_test, y_pred))\n",
    "print('Mean Absolute Error:',RFC_MAE )\n",
    "print('Mean Squared Error:', RFC_MSE)\n",
    "print('Root Mean Squared Error:', RFC_RMSE)\n",
    "\n",
    "cv_scores_test= cross_val_score(RFC_Model,X_test,y_test,cv=5)\n",
    "cv_scores_train= cross_val_score(RFC_Model,X_train,y_train,cv=5)\n",
    "cv_scores_rf_test= cv_scores_test.mean()\n",
    "cv_scores_rf_train= cv_scores_train.mean()\n",
    "cv_scores_std_rf= cv_scores_test.std()\n",
    "print ('Mean cross validation test score: ' +str(cv_scores_rf_test))\n",
    "print ('Mean cross validation train score: ' +str(cv_scores_rf_train))\n",
    "print ('Standard deviation cross validation scores: ' +str(cv_scores_std_rf))"
   ]
  },
  {
   "cell_type": "code",
   "execution_count": 100,
   "metadata": {},
   "outputs": [
    {
     "name": "stdout",
     "output_type": "stream",
     "text": [
      "Accuracy: 0.00013573125212080082\n",
      "Precision: 0.00013573125212080082\n",
      "Mean Absolute Error: 37.510281642348154\n",
      "Mean Squared Error: 1524.7815405497115\n",
      "Root Mean Squared Error: 39.04845119271329\n"
     ]
    },
    {
     "name": "stderr",
     "output_type": "stream",
     "text": [
      "/Users/nicholasseguljic/opt/anaconda3/lib/python3.7/site-packages/sklearn/metrics/_classification.py:1321: UserWarning: Note that pos_label (set to 'positive') is ignored when average != 'binary' (got 'micro'). You may use labels=[pos_label] to specify a single positive class.\n",
      "  % (pos_label, average), UserWarning)\n",
      "/Users/nicholasseguljic/opt/anaconda3/lib/python3.7/site-packages/sklearn/model_selection/_split.py:667: UserWarning: The least populated class in y has only 1 members, which is less than n_splits=5.\n",
      "  % (min_groups, self.n_splits)), UserWarning)\n",
      "/Users/nicholasseguljic/opt/anaconda3/lib/python3.7/site-packages/sklearn/model_selection/_split.py:667: UserWarning: The least populated class in y has only 1 members, which is less than n_splits=5.\n",
      "  % (min_groups, self.n_splits)), UserWarning)\n"
     ]
    },
    {
     "name": "stdout",
     "output_type": "stream",
     "text": [
      "Mean cross validation test score: 0.045673566338649475\n",
      "Mean cross validation train score: 0.08089859138378311\n",
      "Standard deviation cross validation scores: 0.0014007307390940147\n"
     ]
    }
   ],
   "source": [
    "KNN_Model = KNeighborsClassifier()\n",
    "KNN_Model.fit(X_train, y_train)\n",
    "y_pred = KNN_Model.predict(X_test)\n",
    "KNN_Accuracy = accuracy_score(y_test, y_pred)\n",
    "print(\"Accuracy: \" + str(KNN_Accuracy))\n",
    "print(\"Precision:\",metrics.precision_score(y_test, y_pred,pos_label='positive',\n",
    "                                           average='micro'))\n",
    "KNN_MAE = metrics.mean_absolute_error(y_test, y_pred)\n",
    "KNN_MSE = metrics.mean_squared_error(y_test, y_pred)\n",
    "KNN_RMSE = np.sqrt(metrics.mean_squared_error(y_test, y_pred))\n",
    "print('Mean Absolute Error:', KNN_MAE)\n",
    "print('Mean Squared Error:', KNN_MSE)\n",
    "print('Root Mean Squared Error:', KNN_RMSE)\n",
    "\n",
    "cv_scores_test= cross_val_score(KNN_Model,X_test,y_test,cv=5)\n",
    "cv_scores_train= cross_val_score(KNN_Model,X_train,y_train,cv=5)\n",
    "cv_scores_rf_test= cv_scores_test.mean()\n",
    "cv_scores_rf_train= cv_scores_train.mean()\n",
    "cv_scores_std_rf= cv_scores_test.std()\n",
    "print ('Mean cross validation test score: ' +str(cv_scores_rf_test))\n",
    "print ('Mean cross validation train score: ' +str(cv_scores_rf_train))\n",
    "print ('Standard deviation cross validation scores: ' +str(cv_scores_std_rf))"
   ]
  },
  {
   "cell_type": "code",
   "execution_count": 101,
   "metadata": {},
   "outputs": [
    {
     "name": "stdout",
     "output_type": "stream",
     "text": [
      "Accuracy: 0.017780794027824908\n",
      "Precision: 0.017780794027824908\n",
      "Mean Absolute Error: 15.949847302341364\n",
      "Mean Squared Error: 379.00529351883273\n",
      "Root Mean Squared Error: 19.468058288356154\n"
     ]
    },
    {
     "name": "stderr",
     "output_type": "stream",
     "text": [
      "/Users/nicholasseguljic/opt/anaconda3/lib/python3.7/site-packages/sklearn/metrics/_classification.py:1321: UserWarning: Note that pos_label (set to 'positive') is ignored when average != 'binary' (got 'micro'). You may use labels=[pos_label] to specify a single positive class.\n",
      "  % (pos_label, average), UserWarning)\n",
      "/Users/nicholasseguljic/opt/anaconda3/lib/python3.7/site-packages/sklearn/model_selection/_split.py:667: UserWarning: The least populated class in y has only 1 members, which is less than n_splits=5.\n",
      "  % (min_groups, self.n_splits)), UserWarning)\n",
      "/Users/nicholasseguljic/opt/anaconda3/lib/python3.7/site-packages/sklearn/model_selection/_split.py:667: UserWarning: The least populated class in y has only 1 members, which is less than n_splits=5.\n",
      "  % (min_groups, self.n_splits)), UserWarning)\n"
     ]
    },
    {
     "name": "stdout",
     "output_type": "stream",
     "text": [
      "Mean cross validation test score: 0.1146929080420767\n",
      "Mean cross validation train score: 0.1837522597765121\n",
      "Standard deviation cross validation scores: 0.0032758787610850824\n"
     ]
    }
   ],
   "source": [
    "DT_Model = DecisionTreeClassifier()\n",
    "DT_Model.fit(X_train, y_train)\n",
    "y_pred = DT_Model.predict(X_test)\n",
    "DT_Accuracy = accuracy_score(y_test, y_pred)\n",
    "print(\"Accuracy: \" + str(DT_Accuracy))\n",
    "print(\"Precision:\",metrics.precision_score(y_test, y_pred,pos_label='positive',\n",
    "                                           average='micro'))\n",
    "\n",
    "DT_MAE = metrics.mean_absolute_error(y_test, y_pred)\n",
    "DT_MSE = metrics.mean_squared_error(y_test, y_pred)\n",
    "DT_RMSE = np.sqrt(metrics.mean_squared_error(y_test, y_pred))\n",
    "print('Mean Absolute Error:', DT_MAE )\n",
    "print('Mean Squared Error:', DT_MSE)\n",
    "print('Root Mean Squared Error:', DT_RMSE)\n",
    "\n",
    "cv_scores_test= cross_val_score(DT_Model,X_test,y_test,cv=5)\n",
    "cv_scores_train= cross_val_score(DT_Model,X_train,y_train,cv=5)\n",
    "cv_scores_rf_test= cv_scores_test.mean()\n",
    "cv_scores_rf_train= cv_scores_train.mean()\n",
    "cv_scores_std_rf= cv_scores_test.std()\n",
    "print ('Mean cross validation test score: ' +str(cv_scores_rf_test))\n",
    "print ('Mean cross validation train score: ' +str(cv_scores_rf_train))\n",
    "print ('Standard deviation cross validation scores: ' +str(cv_scores_std_rf))"
   ]
  },
  {
   "cell_type": "code",
   "execution_count": 102,
   "metadata": {},
   "outputs": [
    {
     "name": "stdout",
     "output_type": "stream",
     "text": [
      "Accuracy: 0.0\n",
      "Precision: 0.0\n",
      "Mean Absolute Error: 45.09711571089243\n",
      "Mean Squared Error: 2168.154054971157\n",
      "Root Mean Squared Error: 46.563441184808894\n"
     ]
    },
    {
     "name": "stderr",
     "output_type": "stream",
     "text": [
      "/Users/nicholasseguljic/opt/anaconda3/lib/python3.7/site-packages/sklearn/metrics/_classification.py:1321: UserWarning: Note that pos_label (set to 'positive') is ignored when average != 'binary' (got 'micro'). You may use labels=[pos_label] to specify a single positive class.\n",
      "  % (pos_label, average), UserWarning)\n",
      "/Users/nicholasseguljic/opt/anaconda3/lib/python3.7/site-packages/sklearn/model_selection/_split.py:667: UserWarning: The least populated class in y has only 1 members, which is less than n_splits=5.\n",
      "  % (min_groups, self.n_splits)), UserWarning)\n",
      "/Users/nicholasseguljic/opt/anaconda3/lib/python3.7/site-packages/sklearn/model_selection/_split.py:667: UserWarning: The least populated class in y has only 1 members, which is less than n_splits=5.\n",
      "  % (min_groups, self.n_splits)), UserWarning)\n",
      "/Users/nicholasseguljic/opt/anaconda3/lib/python3.7/site-packages/sklearn/model_selection/_validation.py:536: FitFailedWarning: Estimator fit failed. The score on this train-test partition for these parameters will be set to nan. Details: \n",
      "ValueError: feature_names may not contain [, ] or <\n",
      "\n",
      "  FitFailedWarning)\n"
     ]
    },
    {
     "name": "stdout",
     "output_type": "stream",
     "text": [
      "Mean cross validation test score: 0.1288768238887004\n",
      "Mean cross validation train score: nan\n",
      "Standard deviation cross validation scores: 0.003157028394872886\n"
     ]
    }
   ],
   "source": [
    "AB_Model = AdaBoostClassifier()\n",
    "AB_Model.fit(X_train, y_train)\n",
    "y_pred = AB_Model.predict(X_test)\n",
    "AB_Accuracy = accuracy_score(y_test, y_pred)\n",
    "print(\"Accuracy: \" + str(AB_Accuracy))\n",
    "print(\"Precision:\",metrics.precision_score(y_test, y_pred,pos_label='positive',\n",
    "                                           average='micro'))\n",
    "AB_MAE = metrics.mean_absolute_error(y_test, y_pred)\n",
    "AB_MSE = metrics.mean_squared_error(y_test, y_pred)\n",
    "AB_RMSE = np.sqrt(metrics.mean_squared_error(y_test, y_pred))\n",
    "print('Mean Absolute Error:', AB_MAE)\n",
    "print('Mean Squared Error:', AB_MSE)\n",
    "print('Root Mean Squared Error:', AB_RMSE)\n",
    "\n",
    "cv_scores_test= cross_val_score(XGB_Model,X_test,y_test,cv=5)\n",
    "cv_scores_train= cross_val_score(XGB_Model,X_train,y_train,cv=5)\n",
    "cv_scores_rf_test= cv_scores_test.mean()\n",
    "cv_scores_rf_train= cv_scores_train.mean()\n",
    "cv_scores_std_rf= cv_scores_test.std()\n",
    "print ('Mean cross validation test score: ' +str(cv_scores_rf_test))\n",
    "print ('Mean cross validation train score: ' +str(cv_scores_rf_train))\n",
    "print ('Standard deviation cross validation scores: ' +str(cv_scores_std_rf))"
   ]
  },
  {
   "cell_type": "code",
   "execution_count": 75,
   "metadata": {},
   "outputs": [],
   "source": [
    "model_performance_accuracy = pd.DataFrame({'Model': ['LinearRegression', \n",
    "                                                      'RandomForestClassifier', \n",
    "                                                      'KNeighborsClassifier',\n",
    "                                                      'DecisionTreeClassifier','AdaBoostClassifier'\n",
    "                                                      ],\n",
    "                                            'Accuracy': [0,\n",
    "                                                         RFC_Accuracy,\n",
    "                                                         KNN_Accuracy,\n",
    "                                                         DT_Accuracy,AB_Accuracy\n",
    "                                                         ],\n",
    "                                            'MAE': [LR_MAE,\n",
    "                                                         RFC_MAE,\n",
    "                                                         KNN_MAE,\n",
    "                                                         DT_MAE,AB_MAE\n",
    "                                                         ],\n",
    "                                            'MSE': [LR_MSE,\n",
    "                                                         RFC_MSE,\n",
    "                                                         KNN_MSE,\n",
    "                                                         DT_MSE,AB_MSE\n",
    "                                                         ],\n",
    "                                            'RMSE': [LR_RMSE,\n",
    "                                                         RFC_RMSE,\n",
    "                                                         KNN_RMSE,\n",
    "                                                         DT_RMSE,AB_RMSE\n",
    "                                                         ]})\n",
    "\n"
   ]
  },
  {
   "cell_type": "code",
   "execution_count": 76,
   "metadata": {},
   "outputs": [
    {
     "data": {
      "text/html": [
       "<div>\n",
       "<style scoped>\n",
       "    .dataframe tbody tr th:only-of-type {\n",
       "        vertical-align: middle;\n",
       "    }\n",
       "\n",
       "    .dataframe tbody tr th {\n",
       "        vertical-align: top;\n",
       "    }\n",
       "\n",
       "    .dataframe thead th {\n",
       "        text-align: right;\n",
       "    }\n",
       "</style>\n",
       "<table border=\"1\" class=\"dataframe\">\n",
       "  <thead>\n",
       "    <tr style=\"text-align: right;\">\n",
       "      <th></th>\n",
       "      <th>Model</th>\n",
       "      <th>Accuracy</th>\n",
       "      <th>MAE</th>\n",
       "      <th>MSE</th>\n",
       "      <th>RMSE</th>\n",
       "    </tr>\n",
       "  </thead>\n",
       "  <tbody>\n",
       "    <tr>\n",
       "      <th>0</th>\n",
       "      <td>LinearRegression</td>\n",
       "      <td>0.000000</td>\n",
       "      <td>16.691206</td>\n",
       "      <td>433.376526</td>\n",
       "      <td>20.817697</td>\n",
       "    </tr>\n",
       "    <tr>\n",
       "      <th>2</th>\n",
       "      <td>KNeighborsClassifier</td>\n",
       "      <td>0.000136</td>\n",
       "      <td>37.680964</td>\n",
       "      <td>1536.883543</td>\n",
       "      <td>39.203106</td>\n",
       "    </tr>\n",
       "    <tr>\n",
       "      <th>4</th>\n",
       "      <td>AdaBoostClassifier</td>\n",
       "      <td>0.000271</td>\n",
       "      <td>44.596607</td>\n",
       "      <td>2132.752562</td>\n",
       "      <td>46.181734</td>\n",
       "    </tr>\n",
       "    <tr>\n",
       "      <th>3</th>\n",
       "      <td>DecisionTreeClassifier</td>\n",
       "      <td>0.009908</td>\n",
       "      <td>22.182355</td>\n",
       "      <td>664.956566</td>\n",
       "      <td>25.786752</td>\n",
       "    </tr>\n",
       "    <tr>\n",
       "      <th>1</th>\n",
       "      <td>RandomForestClassifier</td>\n",
       "      <td>1.000000</td>\n",
       "      <td>0.000000</td>\n",
       "      <td>0.000000</td>\n",
       "      <td>0.000000</td>\n",
       "    </tr>\n",
       "  </tbody>\n",
       "</table>\n",
       "</div>"
      ],
      "text/plain": [
       "                    Model  Accuracy        MAE          MSE       RMSE\n",
       "0        LinearRegression  0.000000  16.691206   433.376526  20.817697\n",
       "2    KNeighborsClassifier  0.000136  37.680964  1536.883543  39.203106\n",
       "4      AdaBoostClassifier  0.000271  44.596607  2132.752562  46.181734\n",
       "3  DecisionTreeClassifier  0.009908  22.182355   664.956566  25.786752\n",
       "1  RandomForestClassifier  1.000000   0.000000     0.000000   0.000000"
      ]
     },
     "execution_count": 76,
     "metadata": {},
     "output_type": "execute_result"
    }
   ],
   "source": [
    "model_performance_accuracy.sort_values(by = \"Accuracy\", ascending = True)"
   ]
  },
  {
   "cell_type": "raw",
   "metadata": {},
   "source": [
    "#AdaBoostClassifier looks good lets tune the parameters\n",
    "#Now hyper paramter tuning will be done to find the optimal parameters for running the RandomForestRegressor and the accuracy will be compared to the model without tuned hyperparameters"
   ]
  },
  {
   "cell_type": "code",
   "execution_count": 25,
   "metadata": {},
   "outputs": [
    {
     "data": {
      "text/plain": [
       "GridSearchCV(cv=KFold(n_splits=3, random_state=1, shuffle=True),\n",
       "             error_score=nan,\n",
       "             estimator=AdaBoostClassifier(algorithm='SAMME.R',\n",
       "                                          base_estimator=None,\n",
       "                                          learning_rate=1.0, n_estimators=50,\n",
       "                                          random_state=None),\n",
       "             iid='deprecated', n_jobs=1,\n",
       "             param_grid={'learning_rate': [0.7, 0.01],\n",
       "                         'n_estimators': [500, 800]},\n",
       "             pre_dispatch='2*n_jobs', refit=True, return_train_score=False,\n",
       "             scoring='accuracy', verbose=0)"
      ]
     },
     "execution_count": 25,
     "metadata": {},
     "output_type": "execute_result"
    }
   ],
   "source": [
    "from sklearn.model_selection import KFold\n",
    "ada=AdaBoostClassifier()\n",
    "crossvalidation=KFold(n_splits=3,shuffle=True,random_state=1)\n",
    "search_grid={'n_estimators':[500,800],'learning_rate':[.7,0.01]}\n",
    "search=GridSearchCV(estimator=ada,param_grid=search_grid,scoring='accuracy',n_jobs=1,cv=crossvalidation)\n",
    "\n",
    "\n",
    "\n",
    "search.fit(X,y)"
   ]
  },
  {
   "cell_type": "code",
   "execution_count": 26,
   "metadata": {},
   "outputs": [
    {
     "data": {
      "text/plain": [
       "{'learning_rate': 0.01, 'n_estimators': 800}"
      ]
     },
     "execution_count": 26,
     "metadata": {},
     "output_type": "execute_result"
    }
   ],
   "source": [
    "search.best_params_"
   ]
  },
  {
   "cell_type": "code",
   "execution_count": 29,
   "metadata": {},
   "outputs": [
    {
     "name": "stdout",
     "output_type": "stream",
     "text": [
      "Mean Absolute Error: 8.897862232779097\n",
      "Mean Squared Error: 135.56185951815405\n",
      "Root Mean Squared Error: 11.643103517454186\n",
      "Accuracy: 0.04221241940956905\n"
     ]
    },
    {
     "name": "stderr",
     "output_type": "stream",
     "text": [
      "/Users/nicholasseguljic/opt/anaconda3/lib/python3.7/site-packages/sklearn/model_selection/_split.py:667: UserWarning: The least populated class in y has only 1 members, which is less than n_splits=5.\n",
      "  % (min_groups, self.n_splits)), UserWarning)\n",
      "/Users/nicholasseguljic/opt/anaconda3/lib/python3.7/site-packages/sklearn/model_selection/_split.py:667: UserWarning: The least populated class in y has only 1 members, which is less than n_splits=5.\n",
      "  % (min_groups, self.n_splits)), UserWarning)\n"
     ]
    },
    {
     "name": "stdout",
     "output_type": "stream",
     "text": [
      "Mean cross validation test score: 0.05354597896165593\n",
      "Mean cross validation train score: 0.05085003323181703\n",
      "Standard deviation in cv scores: 0.000895209091162058\n"
     ]
    }
   ],
   "source": [
    "ada_Model=AdaBoostClassifier(learning_rate= .001, n_estimators= 800)\n",
    "ada_Model.fit(X_train, y_train)\n",
    "y_pred = ada_Model.predict(X_test)\n",
    "\n",
    "print('Mean Absolute Error:', metrics.mean_absolute_error(y_test, y_pred))\n",
    "print('Mean Squared Error:', metrics.mean_squared_error(y_test, y_pred))\n",
    "print('Root Mean Squared Error:', np.sqrt(metrics.mean_squared_error(y_test, y_pred)))\n",
    "\n",
    "print(\"Accuracy:\",metrics.accuracy_score(y_test, y_pred))\n",
    "\n",
    "cv_scores_test= cross_val_score(ada_Model,X_test,y_test,cv=5)\n",
    "cv_scores_train= cross_val_score(ada_Model,X_train,y_train,cv=5)\n",
    "cv_scores_rf_test= cv_scores_test.mean()\n",
    "cv_scores_rf_train= cv_scores_train.mean()\n",
    "cv_scores_std_rf= cv_scores_test.std()\n",
    "print ('Mean cross validation test score: ' +str(cv_scores_rf_test))\n",
    "print ('Mean cross validation train score: ' +str(cv_scores_rf_train))\n",
    "print ('Standard deviation cross validation scores: ' +str(cv_scores_std_rf))"
   ]
  },
  {
   "cell_type": "raw",
   "metadata": {},
   "source": [
    "These numbers suck, lets see how accurate we can be with just a hit predictor. \n",
    "For this I will drop out the populairty score and just use the 'popular' feature(meaning populairt>80) as the response varibale to see how well models can predict if a song will just be popular or not. \n",
    "\n",
    "I will not need the MAE,RMSE,MSE because I can get AUC and acuracy for all these models."
   ]
  },
  {
   "cell_type": "code",
   "execution_count": 77,
   "metadata": {},
   "outputs": [
    {
     "name": "stdout",
     "output_type": "stream",
     "text": [
      "Index(['Unnamed: 0', 'acousticness', 'danceability', 'duration_ms', 'energy',\n",
      "       'instrumentalness', 'liveness', 'loudness', 'speechiness', 'tempo',\n",
      "       'valence', 'lognorm_duration', 'Count', 'genre_Alternative',\n",
      "       'genre_Blues', 'genre_Country', 'genre_Dance', 'genre_Indie',\n",
      "       'genre_Jazz', 'genre_Pop', 'genre_Rap', 'key_A', 'key_A#', 'key_B',\n",
      "       'key_C', 'key_C#', 'key_D', 'key_D#', 'key_E', 'key_F', 'key_F#',\n",
      "       'key_G', 'key_G#', 'mode_Major', 'mode_Minor', 'time_signature_0/4',\n",
      "       'time_signature_1/4', 'time_signature_3/4', 'time_signature_4/4',\n",
      "       'time_signature_5/4', 'bucket_(100000.0, 300000.0]',\n",
      "       'bucket_(300000.0, 500000.0]', 'bucket_(500000.0, 700000.0]',\n",
      "       'bucket_(700000.0, 900000.0]', 'bucket_(900000.0, 1000000.0]'],\n",
      "      dtype='object')\n"
     ]
    }
   ],
   "source": [
    "df = pd.read_csv('Data.csv')\n",
    "array = ['Rap', 'Pop','Country','Alternative','Indie','Jazz','Dance','Blues']\n",
    "df = df.loc[df['genre'].isin(array)]\n",
    "df = df.drop(['popularity','artist_name','track_name','track_id'],axis=1)\n",
    "df = pd.get_dummies(df)\n",
    "df.head()\n",
    "\n",
    "X = df.drop(['popular_not-popular','popular_popular'],axis=1)\n",
    "y = df['popular_popular']\n",
    "print(X.columns)"
   ]
  },
  {
   "cell_type": "code",
   "execution_count": 78,
   "metadata": {},
   "outputs": [],
   "source": [
    "from sklearn.model_selection import train_test_split\n",
    "X_train, X_test, y_train, y_test = train_test_split(X, y, test_size=0.20)\n",
    "\n",
    "scaler = StandardScaler() \n",
    "X_trained = scaler.fit_transform(X_train)\n",
    "X_test = scaler.transform(X_test)"
   ]
  },
  {
   "cell_type": "code",
   "execution_count": 80,
   "metadata": {},
   "outputs": [
    {
     "name": "stdout",
     "output_type": "stream",
     "text": [
      "[5.47949765e-01 4.52049444e-01 6.95838193e-07 9.37998012e-08\n",
      " 1.13225768e-09 5.20727689e-11 1.49552555e-11 1.46792637e-11\n",
      " 1.40363329e-11 1.39552689e-11 1.36315210e-11 1.30437199e-11\n",
      " 1.22361581e-11 1.21745495e-11 1.15425480e-11 1.13909535e-11\n",
      " 1.08640197e-11 1.01556400e-11 9.49111188e-12 9.12243187e-12\n",
      " 8.53673153e-12 7.88946240e-12 7.78632052e-12 7.24356014e-12\n",
      " 5.98762701e-12 4.94414659e-12 3.53915193e-12 3.48550512e-12\n",
      " 2.52455958e-12 1.88618805e-12 1.70300522e-12 1.58393307e-12\n",
      " 1.01297416e-12 8.06580634e-13 7.59750515e-13 5.91553255e-13\n",
      " 5.74733415e-13 1.81954322e-13 5.24011544e-14 1.39336129e-14\n",
      " 7.00688803e-15 5.20688182e-33 5.20688182e-33 5.20688182e-33\n",
      " 5.20688182e-33]\n"
     ]
    },
    {
     "data": {
      "image/png": "[encoded data removed]",
      "text/plain": [
       "<Figure size 432x288 with 1 Axes>"
      ]
     },
     "metadata": {
      "needs_background": "light"
     },
     "output_type": "display_data"
    }
   ],
   "source": [
    "from sklearn.decomposition import PCA\n",
    "pca = PCA()\n",
    "pca.fit(X_train)\n",
    "features = range(pca.n_components_)\n",
    "print(pca.explained_variance_ratio_)\n",
    "\n",
    "plt.plot(np.cumsum(pca.explained_variance_ratio_))\n",
    "plt.xlabel('Number of components')\n",
    "plt.ylabel('Cumulative Explained Variance')\n",
    "\n",
    "plt.show()\n",
    "\n"
   ]
  },
  {
   "cell_type": "raw",
   "metadata": {},
   "source": [
    "Same reason as before I will not be using pca decomposotion because it is selecting for one feature."
   ]
  },
  {
   "cell_type": "code",
   "execution_count": 81,
   "metadata": {},
   "outputs": [
    {
     "name": "stdout",
     "output_type": "stream",
     "text": [
      "Accuracy: 0.8834068544282321\n",
      "AUC: 0.5028050821343456\n",
      "Mean cross validation test score: 0.961465228632848\n",
      "Mean cross validation train score: 0.9733715569712386\n",
      "Standard deviation cross validation scores: 0.004488467117278635\n"
     ]
    }
   ],
   "source": [
    "RFC_Model = RandomForestClassifier()\n",
    "RFC_Model.fit(X_train, y_train)\n",
    "RFC_Predict = RFC_Model.predict(X_test)\n",
    "RFC_Accuracy = accuracy_score(y_test, RFC_Predict)\n",
    "print(\"Accuracy: \" + str(RFC_Accuracy))\n",
    "\n",
    "RFC_AUC = roc_auc_score(y_test, RFC_Predict) \n",
    "print(\"AUC: \" + str(RFC_AUC))\n",
    "\n",
    "cv_scores_test= cross_val_score(RFC_Model,X_test,y_test,cv=5,scoring='roc_auc')\n",
    "cv_scores_train= cross_val_score(RFC_Model,X_train,y_train,cv=5,scoring='roc_auc')\n",
    "cv_scores_rf_test= cv_scores_test.mean()\n",
    "cv_scores_rf_train= cv_scores_train.mean()\n",
    "cv_scores_std_rf= cv_scores_test.std()\n",
    "print ('Mean cross validation test score: ' +str(cv_scores_rf_test))\n",
    "print ('Mean cross validation train score: ' +str(cv_scores_rf_train))\n",
    "print ('Standard deviation cross validation scores: ' +str(cv_scores_std_rf))"
   ]
  },
  {
   "cell_type": "code",
   "execution_count": 82,
   "metadata": {},
   "outputs": [
    {
     "name": "stdout",
     "output_type": "stream",
     "text": [
      "Accuracy: 0.48910756701730573\n",
      "Mean cross validation test score: 0.919298532983327\n",
      "Mean cross validation train score: 0.8357695385926853\n",
      "Standard deviation cross validation scores: 0.0035416305358726943\n"
     ]
    }
   ],
   "source": [
    "LR_Model = LogisticRegression()\n",
    "LR_Model.fit(X_train, y_train)\n",
    "LR_Predict = LR_Model.predict(X_test)\n",
    "LR_Accuracy = accuracy_score(y_test, LR_Predict)\n",
    "print(\"Accuracy: \" + str(LR_Accuracy))\n",
    "\n",
    "LR_Model.score(X_test, y_test)\n",
    "\n",
    "cv_scores_test= cross_val_score(LR_Model,X_test,y_test,cv=5,scoring='roc_auc')\n",
    "cv_scores_train= cross_val_score(LR_Model,X_train,y_train,cv=5,scoring='roc_auc')\n",
    "cv_scores_rf_test= cv_scores_test.mean()\n",
    "cv_scores_rf_train= cv_scores_train.mean()\n",
    "cv_scores_std_rf= cv_scores_test.std()\n",
    "print ('Mean cross validation test score: ' +str(cv_scores_rf_test))\n",
    "print ('Mean cross validation train score: ' +str(cv_scores_rf_train))\n",
    "print ('Standard deviation cross validation scores: ' +str(cv_scores_std_rf))"
   ]
  },
  {
   "cell_type": "code",
   "execution_count": 83,
   "metadata": {},
   "outputs": [
    {
     "name": "stdout",
     "output_type": "stream",
     "text": [
      "Accuracy: 0.0998982015609094\n",
      "Mean cross validation test score: 0.8520196556216177\n",
      "Mean cross validation train score: 0.9243051011306516\n",
      "Standard deviation cross validation scores: 0.008528576334528176\n"
     ]
    }
   ],
   "source": [
    "KNN_Model = KNeighborsClassifier()\n",
    "KNN_Model.fit(X_train, y_train)\n",
    "KNN_Predict = KNN_Model.predict(X_test)\n",
    "KNN_Accuracy = accuracy_score(y_test, KNN_Predict)\n",
    "print(\"Accuracy: \" + str(KNN_Accuracy))\n",
    "\n",
    "cv_scores_test= cross_val_score(KNN_Model,X_test,y_test,cv=5,scoring='roc_auc')\n",
    "cv_scores_train= cross_val_score(KNN_Model,X_train,y_train,cv=5,scoring='roc_auc')\n",
    "cv_scores_rf_test= cv_scores_test.mean()\n",
    "cv_scores_rf_train= cv_scores_train.mean()\n",
    "cv_scores_std_rf= cv_scores_test.std()\n",
    "print ('Mean cross validation test score: ' +str(cv_scores_rf_test))\n",
    "print ('Mean cross validation train score: ' +str(cv_scores_rf_train))\n",
    "print ('Standard deviation cross validation scores: ' +str(cv_scores_std_rf))"
   ]
  },
  {
   "cell_type": "code",
   "execution_count": 84,
   "metadata": {},
   "outputs": [
    {
     "name": "stdout",
     "output_type": "stream",
     "text": [
      "Accuracy: 0.0998982015609094\n",
      "Mean cross validation test score: 0.8176959959299259\n",
      "Mean cross validation train score: 0.8296734289257467\n",
      "Standard deviation cross validation scores: 0.013327513597569212\n"
     ]
    }
   ],
   "source": [
    "DT_Model = DecisionTreeClassifier()\n",
    "DT_Model.fit(X_train, y_train)\n",
    "DT_Predict = DT_Model.predict(X_test)\n",
    "DT_Accuracy = accuracy_score(y_test, DT_Predict)\n",
    "print(\"Accuracy: \" + str(DT_Accuracy))\n",
    "\n",
    "cv_scores_test= cross_val_score(DT_Model,X_test,y_test,cv=5,scoring='roc_auc')\n",
    "cv_scores_train= cross_val_score(DT_Model,X_train,y_train,cv=5,scoring='roc_auc')\n",
    "cv_scores_rf_test= cv_scores_test.mean()\n",
    "cv_scores_rf_train= cv_scores_train.mean()\n",
    "cv_scores_std_rf= cv_scores_test.std()\n",
    "print ('Mean cross validation test score: ' +str(cv_scores_rf_test))\n",
    "print ('Mean cross validation train score: ' +str(cv_scores_rf_train))\n",
    "print ('Standard deviation cross validation scores: ' +str(cv_scores_std_rf))"
   ]
  },
  {
   "cell_type": "code",
   "execution_count": 85,
   "metadata": {},
   "outputs": [
    {
     "name": "stdout",
     "output_type": "stream",
     "text": [
      "Accuracy: 0.0998982015609094\n",
      "Mean cross validation test score: 0.952373818400806\n",
      "Mean cross validation train score: 0.9581822301759043\n",
      "Standard deviation cross validation scores: 0.003877375176702086\n"
     ]
    }
   ],
   "source": [
    "AB_Model = AdaBoostClassifier()\n",
    "AB_Model.fit(X_train, y_train)\n",
    "AB_Predict = AB_Model.predict(X_test)\n",
    "AB_Accuracy = accuracy_score(y_test, AB_Predict)\n",
    "print(\"Accuracy: \" + str(AB_Accuracy))\n",
    "\n",
    "cv_scores_test= cross_val_score(AB_Model,X_test,y_test,cv=5,scoring='roc_auc')\n",
    "cv_scores_train= cross_val_score(AB_Model,X_train,y_train,cv=5,scoring='roc_auc')\n",
    "cv_scores_rf_test= cv_scores_test.mean()\n",
    "cv_scores_rf_train= cv_scores_train.mean()\n",
    "cv_scores_std_rf= cv_scores_test.std()\n",
    "print ('Mean cross validation test score: ' +str(cv_scores_rf_test))\n",
    "print ('Mean cross validation train score: ' +str(cv_scores_rf_train))\n",
    "print ('Standard deviation cross validation scores: ' +str(cv_scores_std_rf))"
   ]
  },
  {
   "cell_type": "code",
   "execution_count": 87,
   "metadata": {},
   "outputs": [],
   "source": [
    "model_performance_accuracy = pd.DataFrame({'Model': ['LogisticRegression', 'RandomForestClassifier',\n",
    "                                                      'KNeighborsClassifier',\n",
    "                                                      'DecisionTreeClassifier','AdaBoostClassifier'\n",
    "                                                      ],\n",
    "                                            'Accuracy': [LR_Accuracy,\n",
    "                                                         RFC_Accuracy,\n",
    "                                                         KNN_Accuracy,\n",
    "                                                         DT_Accuracy,AB_Accuracy\n",
    "                                                         ]})\n"
   ]
  },
  {
   "cell_type": "code",
   "execution_count": 88,
   "metadata": {},
   "outputs": [
    {
     "data": {
      "text/html": [
       "<div>\n",
       "<style scoped>\n",
       "    .dataframe tbody tr th:only-of-type {\n",
       "        vertical-align: middle;\n",
       "    }\n",
       "\n",
       "    .dataframe tbody tr th {\n",
       "        vertical-align: top;\n",
       "    }\n",
       "\n",
       "    .dataframe thead th {\n",
       "        text-align: right;\n",
       "    }\n",
       "</style>\n",
       "<table border=\"1\" class=\"dataframe\">\n",
       "  <thead>\n",
       "    <tr style=\"text-align: right;\">\n",
       "      <th></th>\n",
       "      <th>Model</th>\n",
       "      <th>Accuracy</th>\n",
       "    </tr>\n",
       "  </thead>\n",
       "  <tbody>\n",
       "    <tr>\n",
       "      <th>1</th>\n",
       "      <td>RandomForestClassifier</td>\n",
       "      <td>0.883407</td>\n",
       "    </tr>\n",
       "    <tr>\n",
       "      <th>0</th>\n",
       "      <td>LogisticRegression</td>\n",
       "      <td>0.489108</td>\n",
       "    </tr>\n",
       "    <tr>\n",
       "      <th>2</th>\n",
       "      <td>KNeighborsClassifier</td>\n",
       "      <td>0.099898</td>\n",
       "    </tr>\n",
       "    <tr>\n",
       "      <th>3</th>\n",
       "      <td>DecisionTreeClassifier</td>\n",
       "      <td>0.099898</td>\n",
       "    </tr>\n",
       "    <tr>\n",
       "      <th>4</th>\n",
       "      <td>AdaBoostClassifier</td>\n",
       "      <td>0.099898</td>\n",
       "    </tr>\n",
       "  </tbody>\n",
       "</table>\n",
       "</div>"
      ],
      "text/plain": [
       "                    Model  Accuracy\n",
       "1  RandomForestClassifier  0.883407\n",
       "0      LogisticRegression  0.489108\n",
       "2    KNeighborsClassifier  0.099898\n",
       "3  DecisionTreeClassifier  0.099898\n",
       "4      AdaBoostClassifier  0.099898"
      ]
     },
     "execution_count": 88,
     "metadata": {},
     "output_type": "execute_result"
    }
   ],
   "source": [
    "model_performance_accuracy.sort_values(by = \"Accuracy\", ascending = False)"
   ]
  },
  {
   "cell_type": "code",
   "execution_count": 32,
   "metadata": {},
   "outputs": [
    {
     "data": {
      "text/plain": [
       "GridSearchCV(cv=5, error_score=nan,\n",
       "             estimator=RandomForestClassifier(bootstrap=True, ccp_alpha=0.0,\n",
       "                                              class_weight=None,\n",
       "                                              criterion='gini', max_depth=None,\n",
       "                                              max_features='auto',\n",
       "                                              max_leaf_nodes=None,\n",
       "                                              max_samples=None,\n",
       "                                              min_impurity_decrease=0.0,\n",
       "                                              min_impurity_split=None,\n",
       "                                              min_samples_leaf=1,\n",
       "                                              min_samples_split=2,\n",
       "                                              min_weight_fraction_leaf=0.0,\n",
       "                                              n_estimators=100, n_jobs=None,\n",
       "                                              oob_score=False,\n",
       "                                              random_state=None, verbose=0,\n",
       "                                              warm_start=False),\n",
       "             iid='deprecated', n_jobs=None,\n",
       "             param_grid={'bootstrap': [True], 'max_depth': [10, 40],\n",
       "                         'max_features': [2, 3], 'min_samples_leaf': [2, 4],\n",
       "                         'min_samples_split': [5, 10],\n",
       "                         'n_estimators': [600, 1000]},\n",
       "             pre_dispatch='2*n_jobs', refit=True, return_train_score=False,\n",
       "             scoring=None, verbose=0)"
      ]
     },
     "execution_count": 32,
     "metadata": {},
     "output_type": "execute_result"
    }
   ],
   "source": [
    "param_grid = {'bootstrap': [True],\n",
    " 'max_depth': [10, 40],\n",
    " 'max_features': [2, 3],\n",
    " 'min_samples_leaf': [2, 4],\n",
    " 'min_samples_split': [5, 10],\n",
    " 'n_estimators': [600, 1000]}\n",
    "rf = RandomForestClassifier()\n",
    "rf_cv= GridSearchCV(rf,param_grid,cv=5)\n",
    "rf_cv.fit(X,y)"
   ]
  },
  {
   "cell_type": "code",
   "execution_count": 33,
   "metadata": {},
   "outputs": [
    {
     "data": {
      "text/plain": [
       "{'bootstrap': True,\n",
       " 'max_depth': 40,\n",
       " 'max_features': 2,\n",
       " 'min_samples_leaf': 4,\n",
       " 'min_samples_split': 5,\n",
       " 'n_estimators': 1000}"
      ]
     },
     "execution_count": 33,
     "metadata": {},
     "output_type": "execute_result"
    }
   ],
   "source": [
    "rf_cv.best_params_"
   ]
  },
  {
   "cell_type": "code",
   "execution_count": 36,
   "metadata": {},
   "outputs": [
    {
     "name": "stdout",
     "output_type": "stream",
     "text": [
      "Accuracy: 0.9036308109942314\n",
      "AUC: 0.5007666351091906\n",
      "Mean cross validation test score: 0.9556586609404831\n",
      "Mean cross validation train score: 0.9644738976941442\n",
      "Standard deviation in cv scores: 0.004080273949602221\n",
      "Mean Absolute Error: 0.09636918900576857\n",
      "Mean Squared Error: 0.09636918900576857\n",
      "Root Mean Squared Error: 0.3104338721946569\n"
     ]
    }
   ],
   "source": [
    "RFC_Model = RandomForestClassifier(bootstrap= True,\n",
    " max_depth= 40,\n",
    " max_features= 2,\n",
    " min_samples_leaf= 4,\n",
    " min_samples_split= 5,\n",
    " n_estimators=1000)\n",
    "\n",
    "\n",
    "RFC_Model.fit(X_train, y_train)\n",
    "y_pred = RFC_Model.predict(X_test)\n",
    "RFC_Accuracy = accuracy_score(y_test, y_pred)\n",
    "print(\"Accuracy: \" + str(RFC_Accuracy))\n",
    "\n",
    "RFC_AUC = roc_auc_score(y_test, RFC_Predict) \n",
    "print(\"AUC: \" + str(RFC_AUC))\n",
    "\n",
    "cv_scores_test= cross_val_score(RFC_Model,X_test,y_test,cv=5,scoring='roc_auc')\n",
    "cv_scores_train= cross_val_score(RFC_Model,X_train,y_train,cv=5,scoring='roc_auc')\n",
    "cv_scores_rf_test= cv_scores_test.mean()\n",
    "cv_scores_rf_train= cv_scores_train.mean()\n",
    "cv_scores_std_rf= cv_scores_test.std()\n",
    "print ('Mean cross validation test score: ' +str(cv_scores_rf_test))\n",
    "print ('Mean cross validation train score: ' +str(cv_scores_rf_train))\n",
    "print ('Standard deviation cross validation scores: ' +str(cv_scores_std_rf))\n",
    "\n",
    "print('Mean Absolute Error:', metrics.mean_absolute_error(y_test, y_pred))\n",
    "print('Mean Squared Error:', metrics.mean_squared_error(y_test, y_pred))\n",
    "print('Root Mean Squared Error:', np.sqrt(metrics.mean_squared_error(y_test, y_pred)))"
   ]
  },
  {
   "cell_type": "raw",
   "metadata": {},
   "source": [
    "Just to see what happens, what if I look at a single genre? How accurate can a model be if I want to know if it is popular or unpopular by my predefined standards?"
   ]
  },
  {
   "cell_type": "code",
   "execution_count": 48,
   "metadata": {},
   "outputs": [
    {
     "name": "stdout",
     "output_type": "stream",
     "text": [
      "Index(['Unnamed: 0', 'acousticness', 'danceability', 'duration_ms', 'energy',\n",
      "       'instrumentalness', 'liveness', 'loudness', 'speechiness', 'tempo',\n",
      "       'valence', 'lognorm_duration', 'Count', 'genre_Rap', 'key_A', 'key_A#',\n",
      "       'key_B', 'key_C', 'key_C#', 'key_D', 'key_D#', 'key_E', 'key_F',\n",
      "       'key_F#', 'key_G', 'key_G#', 'mode_Major', 'mode_Minor',\n",
      "       'time_signature_0/4', 'time_signature_1/4', 'time_signature_3/4',\n",
      "       'time_signature_4/4', 'time_signature_5/4',\n",
      "       'bucket_(100000.0, 300000.0]', 'bucket_(300000.0, 500000.0]',\n",
      "       'bucket_(500000.0, 700000.0]', 'bucket_(700000.0, 900000.0]'],\n",
      "      dtype='object')\n",
      "Accuracy: 0.9978343259339469\n",
      "AUC: 0.5\n"
     ]
    }
   ],
   "source": [
    "df = pd.read_csv('Data.csv')\n",
    "df = df.drop(['popularity','artist_name','track_name','track_id'],axis=1)\n",
    "df = df[df['genre']=='Rap']\n",
    "df = pd.get_dummies(df)\n",
    "df.head()\n",
    "\n",
    "X = df.drop(['popular_not-popular','popular_popular'],axis=1)\n",
    "y = df['popular_popular']\n",
    "print(X.columns)\n",
    "\n",
    "from sklearn.model_selection import train_test_split\n",
    "X_train, X_test, y_train, y_test = train_test_split(X, y, test_size=0.20)\n",
    "\n",
    "scaler = StandardScaler() \n",
    "X_trained = scaler.fit_transform(X_train)\n",
    "X_test = scaler.transform(X_test)\n",
    "\n",
    "RFC_Model = RandomForestClassifier()\n",
    "RFC_Model.fit(X_train, y_train)\n",
    "RFC_Predict = RFC_Model.predict(X_test)\n",
    "RFC_Accuracy = accuracy_score(y_test, RFC_Predict)\n",
    "print(\"Accuracy: \" + str(RFC_Accuracy))\n",
    "\n",
    "RFC_AUC = roc_auc_score(y_test, RFC_Predict) \n",
    "print(\"AUC: \" + str(RFC_AUC))"
   ]
  },
  {
   "cell_type": "raw",
   "metadata": {},
   "source": [
    "Really accurate.\n",
    "\n",
    "Let's look at what features really matter to the bets model, the RFC model"
   ]
  },
  {
   "cell_type": "code",
   "execution_count": 111,
   "metadata": {},
   "outputs": [
    {
     "name": "stdout",
     "output_type": "stream",
     "text": [
      "                        Features  Importance scores\n",
      "0                     Unnamed: 0           0.000000\n",
      "1                   acousticness           0.000013\n",
      "2                   danceability           0.000237\n",
      "3                    duration_ms           0.000261\n",
      "4                         energy           0.000598\n",
      "5               instrumentalness           0.000776\n",
      "6                       liveness           0.001063\n",
      "7                       loudness           0.001142\n",
      "8                    speechiness           0.001369\n",
      "9                          tempo           0.001404\n",
      "10                       valence           0.001421\n",
      "11              lognorm_duration           0.001537\n",
      "12                         Count           0.001555\n",
      "13             genre_Alternative           0.001557\n",
      "14                   genre_Blues           0.001599\n",
      "15                 genre_Country           0.001619\n",
      "16                   genre_Dance           0.001621\n",
      "17                   genre_Indie           0.001686\n",
      "18                    genre_Jazz           0.001754\n",
      "19                     genre_Pop           0.002064\n",
      "20                     genre_Rap           0.003061\n",
      "21                         key_A           0.003174\n",
      "22                        key_A#           0.003204\n",
      "23                         key_B           0.006148\n",
      "24                         key_C           0.006845\n",
      "25                        key_C#           0.007773\n",
      "26                         key_D           0.008203\n",
      "27                        key_D#           0.008376\n",
      "28                         key_E           0.009242\n",
      "29                         key_F           0.016625\n",
      "30                        key_F#           0.021362\n",
      "31                         key_G           0.021891\n",
      "32                        key_G#           0.022119\n",
      "33                    mode_Major           0.023218\n",
      "34                    mode_Minor           0.026529\n",
      "35            time_signature_0/4           0.026576\n",
      "36            time_signature_1/4           0.026931\n",
      "37            time_signature_3/4           0.027225\n",
      "38            time_signature_4/4           0.031708\n",
      "39            time_signature_5/4           0.035424\n",
      "40   bucket_(100000.0, 300000.0]           0.040607\n",
      "41   bucket_(300000.0, 500000.0]           0.043125\n",
      "42   bucket_(500000.0, 700000.0]           0.054711\n",
      "43   bucket_(700000.0, 900000.0]           0.119935\n",
      "44  bucket_(900000.0, 1000000.0]           0.382708\n"
     ]
    },
    {
     "data": {
      "image/png": "[encoded data removed]",
      "text/plain": [
       "<Figure size 1440x720 with 1 Axes>"
      ]
     },
     "metadata": {
      "needs_background": "light"
     },
     "output_type": "display_data"
    }
   ],
   "source": [
    "features = X\n",
    "importances = list(RFC_Model.feature_importances_)\n",
    "imp=np.sort(importances)\n",
    "tab=pd.DataFrame(list(zip(X,imp)),columns =['Features', 'Importance scores']) \n",
    "print(tab)\n",
    "\n",
    "#visually:\n",
    "plt.figure(figsize=(20,10))\n",
    "#indices = np.argsort(importances)\n",
    "index = [0,1,\n",
    "2,\n",
    "3,\n",
    "4,\n",
    "5,\n",
    "6,\n",
    "7,\n",
    "8,\n",
    "9,\n",
    "10,\n",
    "11,\n",
    "12,\n",
    "13,\n",
    "14,\n",
    "15,\n",
    "16,\n",
    "17,\n",
    "18,\n",
    "19,\n",
    "20,\n",
    "21,\n",
    "22,\n",
    "23,\n",
    "24,\n",
    "25,\n",
    "26,\n",
    "27,\n",
    "28,\n",
    "29,\n",
    "30,\n",
    "31,\n",
    "32,\n",
    "33,\n",
    "34,\n",
    "35,\n",
    "36,\n",
    "37,\n",
    "38,\n",
    "39,\n",
    "40,\n",
    "41,\n",
    "42,\n",
    "43,\n",
    "44]\n",
    "_=plt.barh(index,imp, align='center',color='gold',edgecolor='k')\n",
    "plt.xlabel('Relative Importance',fontsize=15)\n",
    "plt.ylabel('Features',fontsize=15)\n",
    "plt.yticks(index, features)\n",
    "plt.title('Feature Importances for Gradient boost Classifier model',fontsize=15)g\n",
    "\n",
    "plt.show()\n",
    "\n"
   ]
  },
  {
   "cell_type": "raw",
   "metadata": {},
   "source": [
    "Going forward knowing the importance of these features may prove useful for further miodel development. As you can see features like acousticness add almost no value, whereas features like the time buckets seem to contribute a lot toward populairty. \n",
    "\n",
    "Conclusion\n",
    "\n",
    "We have evaluated each models in terms of model accuracy score, and 'ROC-AUC' score for both the training and test data, and plotted them. The  best performing model is the Random Forest Regression. In order to increase model performance going forward it may be best to look into specific features that contribute the most to popularity, potentialy looking into a wider range of hyperparamters and incorparating more unsupervised learning beforehand, as PCA was done but not implemanted due to the fact that it reduces dimensions to one. \n",
    "\n",
    "While model performance is at 4% for popularity prediction, the models for prediciting if a song would be popular or not performed at around 90%, a decent accuracy score. This may be due to the simple fact that absolute populairty may not be predictable from quantatative metrics produced by the spotify API and is more nuanced than what spotify currently has for data available to the public. \n",
    "\n"
   ]
  }
 ],
 "metadata": {
  "kernelspec": {
   "display_name": "Python 3",
   "language": "python",
   "name": "python3"
  },
  "language_info": {
   "codemirror_mode": {
    "name": "ipython",
    "version": 3
   },
   "file_extension": ".py",
   "mimetype": "text/x-python",
   "name": "python",
   "nbconvert_exporter": "python",
   "pygments_lexer": "ipython3",
   "version": "3.7.6"
  }
 },
 "nbformat": 4,
 "nbformat_minor": 4
}
