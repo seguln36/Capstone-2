{
 "cells": [
  {
   "cell_type": "code",
   "execution_count": 1,
   "metadata": {},
   "outputs": [
    {
     "data": {
      "text/plain": [
       "['spotify:album:6OQ9gBfg5EXeNAEwGSs6jK',\n",
       " 'spotify:album:45c1tgTktunRMmfh3WVh8U',\n",
       " 'spotify:album:7dqpveMVcWgbzqYrOdkFTD',\n",
       " 'spotify:album:6CY70qRxPutN3VKfYhNREa',\n",
       " 'spotify:album:2podUJIFG8hLfFz7Kqe8yJ',\n",
       " 'spotify:album:1ATL5GLyefJaxhQzSPVrLX',\n",
       " 'spotify:album:42wvKYHFezpmDuAP43558f',\n",
       " 'spotify:album:1lXY618HWkwYKJWBRYR4MK',\n",
       " 'spotify:album:4dvkEfxroInqojJWP06R2V',\n",
       " 'spotify:album:0G1ffjfFuTUTVjDrVdLimH',\n",
       " 'spotify:album:5Eh3UJQnR3SRcYAuNTlj2s',\n",
       " 'spotify:album:40GMAhriYJRO1rsY4YdrZb',\n",
       " 'spotify:album:2yIwhsIWGRQzGQdn1czSK0',\n",
       " 'spotify:album:15QCBYjP6HwHvsff100UBx',\n",
       " 'spotify:album:1ozpmkWcCHwsQ4QTnxOOdT',\n",
       " 'spotify:album:0ptlfJfwGTy0Yvrk14JK1I',\n",
       " 'spotify:album:5bqZfS9HUBTtxW0UiG05qC',\n",
       " 'spotify:album:2ZUFSbIkmFkGag000RWOpA',\n",
       " 'spotify:album:5mz0mJxb80gqJIcRf9LGHJ',\n",
       " 'spotify:album:5dyR0ROpw6MEAwhoi3jFHs']"
      ]
     },
     "execution_count": 1,
     "metadata": {},
     "output_type": "execute_result"
    }
   ],
   "source": [
    "import spotipy \n",
    "from spotipy.oauth2 import SpotifyClientCredentials #To access authorised Spotify data\n",
    "client_id = \"8d7c84e72cff45378423baf6f403b68d\"\n",
    "client_secret = \"59e6786d0537453e855a3894ab0c4784\"\n",
    "client_credentials_manager = SpotifyClientCredentials(client_id=client_id, client_secret=client_secret)\n",
    "sp = spotipy.Spotify(client_credentials_manager=client_credentials_manager) #spotify object to access API\n",
    "name = \"{Drake}\" #chosen artist\n",
    "result = sp.search(name) #search query\n",
    "result['tracks']['items'][0]['artists']\n",
    "\n",
    "artist_uri = result['tracks']['items'][0]['artists'][0]['uri']\n",
    "#Pull all of the artist's albums\n",
    "sp_albums = sp.artist_albums(artist_uri, album_type='album')\n",
    "#Store artist's albums' names' and uris in separate lists\n",
    "album_names = []\n",
    "album_uris = []\n",
    "for i in range(len(sp_albums['items'])):\n",
    "    album_names.append(sp_albums['items'][i]['name'])\n",
    "    album_uris.append(sp_albums['items'][i]['uri'])\n",
    "    \n",
    "album_names\n",
    "album_uris"
   ]
  },
  {
   "cell_type": "code",
   "execution_count": 4,
   "metadata": {},
   "outputs": [],
   "source": [
    "def albumSongs(uri):\n",
    "    album = uri #assign album uri to a_name\n",
    "    spotify_albums[album] = {} #Creates dictionary for that specific album\n",
    "#Create keys-values of empty lists inside nested dictionary for album\n",
    "    spotify_albums[album]['album'] = [] #create empty list\n",
    "    spotify_albums[album]['track_number'] = []\n",
    "    spotify_albums[album]['id'] = []\n",
    "    spotify_albums[album]['name'] = []\n",
    "    spotify_albums[album]['uri'] = []\n",
    "    \n",
    "    tracks = sp.album_tracks(album) #pull data on album tracks\n",
    "    for n in range(len(tracks['items'])): #for each song track\n",
    "        spotify_albums[album]['album'].append(album_names[album_count]) #append album name tracked via album_count\n",
    "        spotify_albums[album]['track_number'].append(tracks['items'][n]['track_number'])\n",
    "        spotify_albums[album]['id'].append(tracks['items'][n]['id'])\n",
    "        spotify_albums[album]['name'].append(tracks['items'][n]['name'])\n",
    "        spotify_albums[album]['uri'].append(tracks['items'][n]['uri'])\n",
    "        "
   ]
  },
  {
   "cell_type": "code",
   "execution_count": 5,
   "metadata": {},
   "outputs": [
    {
     "name": "stdout",
     "output_type": "stream",
     "text": [
      "Album Dark Lane Demo Tapes songs has been added to spotify_albums dictionary\n",
      "Album Dark Lane Demo Tapes songs has been added to spotify_albums dictionary\n",
      "Album Care Package songs has been added to spotify_albums dictionary\n",
      "Album Care Package songs has been added to spotify_albums dictionary\n",
      "Album So Far Gone songs has been added to spotify_albums dictionary\n",
      "Album Scorpion songs has been added to spotify_albums dictionary\n",
      "Album Scorpion songs has been added to spotify_albums dictionary\n",
      "Album More Life songs has been added to spotify_albums dictionary\n",
      "Album More Life songs has been added to spotify_albums dictionary\n",
      "Album Views songs has been added to spotify_albums dictionary\n",
      "Album Views songs has been added to spotify_albums dictionary\n",
      "Album Views songs has been added to spotify_albums dictionary\n",
      "Album Views songs has been added to spotify_albums dictionary\n",
      "Album What A Time To Be Alive songs has been added to spotify_albums dictionary\n",
      "Album What A Time To Be Alive songs has been added to spotify_albums dictionary\n",
      "Album If You're Reading This It's Too Late songs has been added to spotify_albums dictionary\n",
      "Album If You're Reading This It's Too Late songs has been added to spotify_albums dictionary\n",
      "Album Nothing Was The Same (Deluxe) songs has been added to spotify_albums dictionary\n",
      "Album Nothing Was The Same (Deluxe) songs has been added to spotify_albums dictionary\n",
      "Album Nothing Was The Same (Deluxe) songs has been added to spotify_albums dictionary\n"
     ]
    }
   ],
   "source": [
    "spotify_albums = {}\n",
    "album_count = 0\n",
    "for i in album_uris: #each album\n",
    "    albumSongs(i)\n",
    "    print(\"Album \" + str(album_names[album_count]) + \" songs has been added to spotify_albums dictionary\")\n",
    "    album_count+=1 #Updates album count once all tracks have been added\n"
   ]
  },
  {
   "cell_type": "code",
   "execution_count": 34,
   "metadata": {},
   "outputs": [],
   "source": [
    "def audio_features(album):\n",
    "    #Add new key-values to store audio features\n",
    "    spotify_albums[album]['duration_ms'] = []\n",
    "    spotify_albums[album]['acousticness'] = []\n",
    "    spotify_albums[album]['danceability'] = []\n",
    "    spotify_albums[album]['energy'] = []\n",
    "    spotify_albums[album]['instrumentalness'] = []\n",
    "    spotify_albums[album]['liveness'] = []\n",
    "    spotify_albums[album]['loudness'] = []\n",
    "    spotify_albums[album]['mode'] = []\n",
    "    spotify_albums[album]['speechiness'] = []\n",
    "    spotify_albums[album]['tempo'] = []\n",
    "    spotify_albums[album]['time_signature'] = []\n",
    "    spotify_albums[album]['valence'] = []\n",
    "    spotify_albums[album]['popularity'] = []\n",
    "    #create a track counter\n",
    "    track_count = 0\n",
    "    for track in spotify_albums[album]['uri']:\n",
    "        #pull audio features per track\n",
    "        features = sp.audio_features(track)\n",
    "        \n",
    "        #Append to relevant key-value\n",
    "        spotify_albums[album]['duration_ms'].append(features[0]['duration_ms'])\n",
    "        spotify_albums[album]['acousticness'].append(features[0]['acousticness'])\n",
    "        spotify_albums[album]['danceability'].append(features[0]['danceability'])\n",
    "        spotify_albums[album]['energy'].append(features[0]['energy'])\n",
    "        spotify_albums[album]['instrumentalness'].append(features[0]['instrumentalness'])\n",
    "        spotify_albums[album]['liveness'].append(features[0]['liveness'])\n",
    "        spotify_albums[album]['loudness'].append(features[0]['loudness'])\n",
    "        spotify_albums[album]['mode'].append(features[0]['mode'])\n",
    "        spotify_albums[album]['speechiness'].append(features[0]['speechiness'])\n",
    "        spotify_albums[album]['tempo'].append(features[0]['tempo'])\n",
    "        spotify_albums[album]['time_signature'].append(features[0]['time_signature'])\n",
    "        spotify_albums[album]['valence'].append(features[0]['valence'])\n",
    "        #popularity is stored elsewhere\n",
    "        pop = sp.track(track)\n",
    "        spotify_albums[album]['popularity'].append(pop['popularity'])\n",
    "        \n",
    "        track_count+=1\n"
   ]
  },
  {
   "cell_type": "code",
   "execution_count": 35,
   "metadata": {},
   "outputs": [
    {
     "name": "stdout",
     "output_type": "stream",
     "text": [
      "5 playlists completed\n",
      "Loop #: 5\n",
      "Elapsed Time: 14.312106370925903 seconds\n",
      "10 playlists completed\n",
      "Loop #: 10\n",
      "Elapsed Time: 38.472981452941895 seconds\n",
      "15 playlists completed\n",
      "Loop #: 15\n",
      "Elapsed Time: 57.85194230079651 seconds\n",
      "20 playlists completed\n",
      "Loop #: 20\n",
      "Elapsed Time: 74.86943316459656 seconds\n"
     ]
    }
   ],
   "source": [
    "import time\n",
    "import numpy as np\n",
    "sleep_min = 2\n",
    "sleep_max = 5\n",
    "start_time = time.time()\n",
    "request_count = 0\n",
    "for i in spotify_albums:\n",
    "    audio_features(i)\n",
    "    request_count+=1\n",
    "    if request_count % 5 == 0:\n",
    "        print(str(request_count) + \" playlists completed\")\n",
    "        time.sleep(np.random.uniform(sleep_min, sleep_max))\n",
    "        print('Loop #: {}'.format(request_count))\n",
    "        print('Elapsed Time: {} seconds'.format(time.time() - start_time))\n"
   ]
  },
  {
   "cell_type": "code",
   "execution_count": 39,
   "metadata": {},
   "outputs": [
    {
     "name": "stdout",
     "output_type": "stream",
     "text": [
      "357\n"
     ]
    }
   ],
   "source": [
    "dic_df = {}\n",
    "dic_df['album'] = []\n",
    "dic_df['name'] = []\n",
    "dic_df['id'] = []\n",
    "dic_df['track_number'] = []\n",
    "dic_df['popularity'] = []\n",
    "dic_df['uri'] = []\n",
    "dic_df['acousticness'] = []\n",
    "dic_df['danceability'] = []\n",
    "dic_df['duration_ms'] = []\n",
    "dic_df['energy'] = []\n",
    "dic_df['instrumentalness'] = []\n",
    "dic_df['liveness'] = []\n",
    "dic_df['loudness'] = []\n",
    "dic_df['mode'] = []\n",
    "dic_df['speechiness'] = []\n",
    "dic_df['tempo'] = []\n",
    "dic_df['time_signature'] = []\n",
    "dic_df['valence'] = []\n",
    "\n",
    "for album in spotify_albums: \n",
    "    for feature in spotify_albums[album]:\n",
    "        dic_df[feature].extend(spotify_albums[album][feature])\n",
    "        \n",
    "cont = len(dic_df['album'])\n",
    "print (cont)"
   ]
  },
  {
   "cell_type": "code",
   "execution_count": 43,
   "metadata": {},
   "outputs": [
    {
     "name": "stdout",
     "output_type": "stream",
     "text": [
      "    artist_name                         track_name                track_id  \\\n",
      "0         Drake                       Deep Pockets  3IvMYBE7A3c7to1aEcfFJk   \n",
      "1         Drake                   When To Say When  5TCBWmEBrin7etRa4Lswr1   \n",
      "2         Drake   Chicago Freestyle (feat. Giveon)  4wVOKKEHUJxHCFFNUWDn0B   \n",
      "3         Drake    Not You Too (feat. Chris Brown)  3Q4gttWQ6hxqWOa3tHoTNi   \n",
      "4         Drake                       Toosie Slide  466cKvZn1j45IpxDdYZqdA   \n",
      "..          ...                                ...                     ...   \n",
      "352       Drake                           Too Much  6UhnXAyiAGLz9spxVPev50   \n",
      "353       Drake  Pound Cake / Paris Morton Music 2  4tfZFYlUYtuXndIRn6yobU   \n",
      "354       Drake                          Come Thru  5JzN4JB1wgByf3twEpi0eN   \n",
      "355       Drake                             All Me  0WavAWbk0XMIGlNBQGyMeH   \n",
      "356       Drake                         The Motion  6xV1ehAXRFtqHIpPF9Y2Ks   \n",
      "\n",
      "     popularity  acousticness  danceability  duration_ms  energy  \\\n",
      "0            77         0.482         0.473       222929   0.824   \n",
      "1            77         0.252         0.410       223124   0.820   \n",
      "2            88         0.629         0.735       220488   0.449   \n",
      "3            79         0.342         0.458       269680   0.452   \n",
      "4            86         0.289         0.830       247059   0.490   \n",
      "..          ...           ...           ...          ...     ...   \n",
      "352           6         0.189         0.728       261853   0.556   \n",
      "353           6         0.130         0.520       433800   0.790   \n",
      "354           5         0.141         0.453       236360   0.465   \n",
      "355           6         0.072         0.866       268253   0.502   \n",
      "356           3         0.273         0.670       240960   0.705   \n",
      "\n",
      "     instrumentalness  liveness  loudness  mode  speechiness    tempo  \\\n",
      "0            0.000000    0.6050    -3.680     0        0.163   77.888   \n",
      "1            0.000000    0.5380    -6.808     1        0.533  170.718   \n",
      "2            0.000000    0.1130    -7.507     1        0.347  122.947   \n",
      "3            0.000019    0.0703    -9.299     0        0.047   86.318   \n",
      "4            0.000003    0.1130    -8.820     0        0.209   81.604   \n",
      "..                ...       ...       ...   ...          ...      ...   \n",
      "352          0.000000    0.1390    -5.909     1        0.533  140.643   \n",
      "353          0.000035    0.1120    -5.392     1        0.527  164.227   \n",
      "354          0.000000    0.3820    -5.811     1        0.231   77.075   \n",
      "355          0.000000    0.1160    -6.941     1        0.299  122.059   \n",
      "356          0.000545    0.1400    -8.359     0        0.129  157.623   \n",
      "\n",
      "     time_signature  valence  count  \n",
      "0                 4   0.3740    357  \n",
      "1                 4   0.5260    357  \n",
      "2                 4   0.0397    357  \n",
      "3                 4   0.3160    357  \n",
      "4                 4   0.8450    357  \n",
      "..              ...      ...    ...  \n",
      "352               4   0.1520    357  \n",
      "353               4   0.2510    357  \n",
      "354               3   0.4760    357  \n",
      "355               4   0.3970    357  \n",
      "356               4   0.5020    357  \n",
      "\n",
      "[357 rows x 17 columns]\n"
     ]
    }
   ],
   "source": [
    "import pandas as pd\n",
    "df = pd.DataFrame.from_dict(dic_df)\n",
    "df = df.drop(columns = ['album', 'track_number','uri'])\n",
    "#df = df.drop(columns = 'track_number')\n",
    "df.insert(0, \"artist_name\", 'Drake', True) \n",
    "df.insert(16, \"count\", cont, True) \n",
    "df = df.rename(columns={ 'id': 'track_id', 'name': 'track_name'})\n",
    "print (df)"
   ]
  },
  {
   "cell_type": "code",
   "execution_count": null,
   "metadata": {},
   "outputs": [],
   "source": [
    "\n",
    "\n",
    "\n",
    "#Assign count when finalized to match Data Wrangling Notebook"
   ]
  }
 ],
 "metadata": {
  "kernelspec": {
   "display_name": "Python 3",
   "language": "python",
   "name": "python3"
  },
  "language_info": {
   "codemirror_mode": {
    "name": "ipython",
    "version": 3
   },
   "file_extension": ".py",
   "mimetype": "text/x-python",
   "name": "python",
   "nbconvert_exporter": "python",
   "pygments_lexer": "ipython3",
   "version": "3.7.6"
  }
 },
 "nbformat": 4,
 "nbformat_minor": 4
}
